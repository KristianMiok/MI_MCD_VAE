{
  "nbformat": 4,
  "nbformat_minor": 0,
  "metadata": {
    "colab": {
      "name": "EHB_Masking_Medical_Dataset_Cross.ipynb",
      "provenance": [],
      "collapsed_sections": [],
      "toc_visible": true
    },
    "kernelspec": {
      "name": "python3",
      "display_name": "Python 3"
    },
    "accelerator": "GPU"
  },
  "cells": [
    {
      "cell_type": "markdown",
      "metadata": {
        "id": "fdT9BTrmT3ro",
        "colab_type": "text"
      },
      "source": [
        "# Import Libraries"
      ]
    },
    {
      "cell_type": "code",
      "metadata": {
        "id": "CQNUpL6YT32X",
        "colab_type": "code",
        "outputId": "f1866945-bdaf-4fde-d2be-890fc0ac4a34",
        "colab": {
          "base_uri": "https://localhost:8080/",
          "height": 105
        }
      },
      "source": [
        "from __future__ import absolute_import\n",
        "from __future__ import division\n",
        "from __future__ import print_function\n",
        "import os\n",
        "import random\n",
        "import argparse\n",
        "import numpy as np\n",
        "import matplotlib.pyplot as plt\n",
        "from tensorflow import set_random_seed\n",
        "from keras import regularizers\n",
        "from keras import backend as K\n",
        "from keras.models import Model\n",
        "from keras.utils import plot_model\n",
        "from keras.losses import mse, binary_crossentropy\n",
        "from keras.layers import Lambda, Input, Dense, Dropout\n",
        "import pandas as pd\n",
        "import seaborn as sns\n",
        "from keras.utils import np_utils\n",
        "from sklearn.preprocessing import LabelEncoder\n",
        "from sklearn.preprocessing import MinMaxScaler\n",
        "from keras.objectives import mse\n",
        "from keras.models import Sequential\n",
        "from keras.layers.core import Dropout, Dense\n",
        "from keras.regularizers import l1, l2\n",
        "from sklearn.metrics import mean_squared_error\n",
        "from sklearn.metrics import r2_score\n",
        "from collections import defaultdict\n",
        "\n",
        "GLOBAL_SEED = 1\n",
        "LOCAL_SEED = 42\n",
        "\n",
        "set_random_seed(GLOBAL_SEED)\n",
        "np.random.seed(GLOBAL_SEED)\n",
        "random.seed(GLOBAL_SEED)\n",
        "%matplotlib inline\n",
        "%pylab inline\n",
        "rcParams['figure.figsize'] = [10, 8]"
      ],
      "execution_count": 0,
      "outputs": [
        {
          "output_type": "stream",
          "text": [
            "Using TensorFlow backend.\n"
          ],
          "name": "stderr"
        },
        {
          "output_type": "stream",
          "text": [
            "Populating the interactive namespace from numpy and matplotlib\n"
          ],
          "name": "stdout"
        },
        {
          "output_type": "stream",
          "text": [
            "/usr/local/lib/python3.6/dist-packages/IPython/core/magics/pylab.py:161: UserWarning: pylab import has clobbered these variables: ['random']\n",
            "`%matplotlib` prevents importing * from pylab and numpy\n",
            "  \"\\n`%matplotlib` prevents importing * from pylab and numpy\"\n"
          ],
          "name": "stderr"
        }
      ]
    },
    {
      "cell_type": "markdown",
      "metadata": {
        "colab_type": "text",
        "id": "DjJAxu80AFW6"
      },
      "source": [
        "# Access Google Drive"
      ]
    },
    {
      "cell_type": "code",
      "metadata": {
        "id": "u4QUbkrWUl2L",
        "colab_type": "code",
        "outputId": "abeee907-b7c0-4907-c090-edcbc2e03344",
        "colab": {
          "base_uri": "https://localhost:8080/",
          "height": 34
        }
      },
      "source": [
        "# Access to resources\n",
        "from google.colab import drive\n",
        "drive.mount('/content/gdrive', force_remount=True)"
      ],
      "execution_count": 0,
      "outputs": [
        {
          "output_type": "stream",
          "text": [
            "Mounted at /content/gdrive\n"
          ],
          "name": "stdout"
        }
      ]
    },
    {
      "cell_type": "markdown",
      "metadata": {
        "id": "8VTGWwfObeoT",
        "colab_type": "text"
      },
      "source": [
        "# Read Data"
      ]
    },
    {
      "cell_type": "code",
      "metadata": {
        "id": "FFaXts2Ycg-w",
        "colab_type": "code",
        "colab": {}
      },
      "source": [
        "# Define PATH to file\n",
        "path = 'gdrive/My Drive/Dataset/date_ani_v4b.xlsx'"
      ],
      "execution_count": 0,
      "outputs": []
    },
    {
      "cell_type": "code",
      "metadata": {
        "id": "DfcE15dwhyaL",
        "colab_type": "code",
        "outputId": "e6eb2165-56ad-448e-bbb3-41b62591c7d7",
        "colab": {
          "base_uri": "https://localhost:8080/",
          "height": 176
        }
      },
      "source": [
        "from sklearn.utils import shuffle\n",
        "\n",
        "set_random_seed(GLOBAL_SEED)\n",
        "np.random.seed(GLOBAL_SEED)\n",
        "random.seed(GLOBAL_SEED)\n",
        "import pandas as pd\n",
        "df = pd.read_excel(path)\n",
        "df = df.fillna(np.nan)\n",
        "print('Origin dataset:')                 \n",
        "print(df.head())\n",
        "df.rename(columns={'gras_prot':'gras prot'}, inplace=True)\n",
        "df.rename(columns={' NCS binar':'NCS binar'}, inplace=True)\n",
        "# df[' NCS binar'] = df[' NCS binar'].astype('category')\n",
        "df['NCS ordinal'] = df['NCS ordinal'].astype('category')\n",
        "# df.rename(columns={\"gras_prot\": \"gras prot\"})\n",
        "df = shuffle(df, random_state=GLOBAL_SEED)"
      ],
      "execution_count": 0,
      "outputs": [
        {
          "output_type": "stream",
          "text": [
            "Origin dataset:\n",
            "   ID      an  measure  ... NCS ordinal  Unnamed: 16  Unnamed: 17\n",
            "0   8  2012.0      1.0  ...         1.0          NaN          NaN\n",
            "1  54  2012.0      1.0  ...         1.0          NaN          NaN\n",
            "2  54  2012.0      2.0  ...         0.0          NaN          NaN\n",
            "3  54  2012.0      3.0  ...         1.0          NaN          NaN\n",
            "4  54  2012.0      4.0  ...         0.0          NaN          NaN\n",
            "\n",
            "[5 rows x 18 columns]\n"
          ],
          "name": "stdout"
        }
      ]
    },
    {
      "cell_type": "markdown",
      "metadata": {
        "colab_type": "text",
        "id": "6lMwRxZpKqUt"
      },
      "source": [
        "#Explore the data"
      ]
    },
    {
      "cell_type": "code",
      "metadata": {
        "colab_type": "code",
        "outputId": "b249b1e6-124c-4786-d38d-4b08403c4429",
        "id": "xzVK12HoKqUu",
        "colab": {
          "base_uri": "https://localhost:8080/",
          "height": 425
        }
      },
      "source": [
        "df.info()"
      ],
      "execution_count": 0,
      "outputs": [
        {
          "output_type": "stream",
          "text": [
            "<class 'pandas.core.frame.DataFrame'>\n",
            "Int64Index: 13687 entries, 4003 to 13349\n",
            "Data columns (total 18 columns):\n",
            "ID             13686 non-null object\n",
            "an             13686 non-null float64\n",
            "measure        13686 non-null float64\n",
            "an_measure     13686 non-null object\n",
            "cant           13445 non-null float64\n",
            "caze           7675 non-null float64\n",
            "gras           13686 non-null float64\n",
            "lact           13686 non-null float64\n",
            "ncs            13686 non-null float64\n",
            "ph             12554 non-null float64\n",
            "prot           13686 non-null float64\n",
            "gras prot      13686 non-null float64\n",
            "sun            13686 non-null float64\n",
            "uree           12345 non-null float64\n",
            "NCS binar      13686 non-null float64\n",
            "NCS ordinal    13686 non-null category\n",
            "Unnamed: 16    0 non-null float64\n",
            "Unnamed: 17    1 non-null float64\n",
            "dtypes: category(1), float64(15), object(2)\n",
            "memory usage: 1.9+ MB\n"
          ],
          "name": "stdout"
        }
      ]
    },
    {
      "cell_type": "markdown",
      "metadata": {
        "id": "bDC5ZAJsynon",
        "colab_type": "text"
      },
      "source": [
        "#### Infos\n",
        "\n",
        "THe ID do not contribute info --> Remove\n",
        "\n",
        "The an_measure and an columns have the same characteristics --> keep 1 (an_measure)\n"
      ]
    },
    {
      "cell_type": "code",
      "metadata": {
        "id": "Ln3PCl5kqPQX",
        "colab_type": "code",
        "colab": {}
      },
      "source": [
        "df.drop(['Unnamed: 16', 'Unnamed: 17', \n",
        "         'ID', 'an', 'an_measure',\n",
        "        #  ' NCS binar', \n",
        "         'NCS ordinal',\n",
        "         'measure'], inplace=True, axis=1)"
      ],
      "execution_count": 0,
      "outputs": []
    },
    {
      "cell_type": "code",
      "metadata": {
        "id": "rSvIQv4lq3RF",
        "colab_type": "code",
        "outputId": "7a37f6c3-43de-48f7-967b-0dd499bd49cc",
        "colab": {
          "base_uri": "https://localhost:8080/",
          "height": 301
        }
      },
      "source": [
        "df.info()"
      ],
      "execution_count": 0,
      "outputs": [
        {
          "output_type": "stream",
          "text": [
            "<class 'pandas.core.frame.DataFrame'>\n",
            "Int64Index: 13687 entries, 4003 to 13349\n",
            "Data columns (total 11 columns):\n",
            "cant         13445 non-null float64\n",
            "caze         7675 non-null float64\n",
            "gras         13686 non-null float64\n",
            "lact         13686 non-null float64\n",
            "ncs          13686 non-null float64\n",
            "ph           12554 non-null float64\n",
            "prot         13686 non-null float64\n",
            "gras prot    13686 non-null float64\n",
            "sun          13686 non-null float64\n",
            "uree         12345 non-null float64\n",
            "NCS binar    13686 non-null float64\n",
            "dtypes: float64(11)\n",
            "memory usage: 1.3 MB\n"
          ],
          "name": "stdout"
        }
      ]
    },
    {
      "cell_type": "code",
      "metadata": {
        "id": "0t1o4X8xYXKn",
        "colab_type": "code",
        "outputId": "9cb2455d-65e9-4070-be43-afab42d0cba2",
        "colab": {
          "base_uri": "https://localhost:8080/",
          "height": 197
        }
      },
      "source": [
        "df.head()"
      ],
      "execution_count": 0,
      "outputs": [
        {
          "output_type": "execute_result",
          "data": {
            "text/html": [
              "<div>\n",
              "<style scoped>\n",
              "    .dataframe tbody tr th:only-of-type {\n",
              "        vertical-align: middle;\n",
              "    }\n",
              "\n",
              "    .dataframe tbody tr th {\n",
              "        vertical-align: top;\n",
              "    }\n",
              "\n",
              "    .dataframe thead th {\n",
              "        text-align: right;\n",
              "    }\n",
              "</style>\n",
              "<table border=\"1\" class=\"dataframe\">\n",
              "  <thead>\n",
              "    <tr style=\"text-align: right;\">\n",
              "      <th></th>\n",
              "      <th>cant</th>\n",
              "      <th>caze</th>\n",
              "      <th>gras</th>\n",
              "      <th>lact</th>\n",
              "      <th>ncs</th>\n",
              "      <th>ph</th>\n",
              "      <th>prot</th>\n",
              "      <th>gras prot</th>\n",
              "      <th>sun</th>\n",
              "      <th>uree</th>\n",
              "      <th>NCS binar</th>\n",
              "    </tr>\n",
              "  </thead>\n",
              "  <tbody>\n",
              "    <tr>\n",
              "      <th>4003</th>\n",
              "      <td>12.0</td>\n",
              "      <td>2.69</td>\n",
              "      <td>5.24</td>\n",
              "      <td>4.57</td>\n",
              "      <td>106.0</td>\n",
              "      <td>6.62</td>\n",
              "      <td>3.36</td>\n",
              "      <td>1.559524</td>\n",
              "      <td>8.60</td>\n",
              "      <td>3.7</td>\n",
              "      <td>0.0</td>\n",
              "    </tr>\n",
              "    <tr>\n",
              "      <th>10445</th>\n",
              "      <td>7.0</td>\n",
              "      <td>2.78</td>\n",
              "      <td>5.49</td>\n",
              "      <td>4.73</td>\n",
              "      <td>4555.0</td>\n",
              "      <td>6.62</td>\n",
              "      <td>3.44</td>\n",
              "      <td>1.595930</td>\n",
              "      <td>8.88</td>\n",
              "      <td>3.5</td>\n",
              "      <td>1.0</td>\n",
              "    </tr>\n",
              "    <tr>\n",
              "      <th>12002</th>\n",
              "      <td>11.0</td>\n",
              "      <td>NaN</td>\n",
              "      <td>4.84</td>\n",
              "      <td>4.82</td>\n",
              "      <td>17.0</td>\n",
              "      <td>6.62</td>\n",
              "      <td>3.29</td>\n",
              "      <td>1.471125</td>\n",
              "      <td>9.05</td>\n",
              "      <td>23.2</td>\n",
              "      <td>0.0</td>\n",
              "    </tr>\n",
              "    <tr>\n",
              "      <th>5440</th>\n",
              "      <td>10.0</td>\n",
              "      <td>NaN</td>\n",
              "      <td>4.12</td>\n",
              "      <td>5.14</td>\n",
              "      <td>17.0</td>\n",
              "      <td>6.67</td>\n",
              "      <td>3.23</td>\n",
              "      <td>1.275542</td>\n",
              "      <td>9.22</td>\n",
              "      <td>30.3</td>\n",
              "      <td>0.0</td>\n",
              "    </tr>\n",
              "    <tr>\n",
              "      <th>6034</th>\n",
              "      <td>9.9</td>\n",
              "      <td>NaN</td>\n",
              "      <td>4.73</td>\n",
              "      <td>4.65</td>\n",
              "      <td>157.0</td>\n",
              "      <td>6.61</td>\n",
              "      <td>3.38</td>\n",
              "      <td>1.399408</td>\n",
              "      <td>8.96</td>\n",
              "      <td>11.4</td>\n",
              "      <td>0.0</td>\n",
              "    </tr>\n",
              "  </tbody>\n",
              "</table>\n",
              "</div>"
            ],
            "text/plain": [
              "       cant  caze  gras  lact     ncs  ...  prot  gras prot   sun  uree  NCS binar\n",
              "4003   12.0  2.69  5.24  4.57   106.0  ...  3.36   1.559524  8.60   3.7        0.0\n",
              "10445   7.0  2.78  5.49  4.73  4555.0  ...  3.44   1.595930  8.88   3.5        1.0\n",
              "12002  11.0   NaN  4.84  4.82    17.0  ...  3.29   1.471125  9.05  23.2        0.0\n",
              "5440   10.0   NaN  4.12  5.14    17.0  ...  3.23   1.275542  9.22  30.3        0.0\n",
              "6034    9.9   NaN  4.73  4.65   157.0  ...  3.38   1.399408  8.96  11.4        0.0\n",
              "\n",
              "[5 rows x 11 columns]"
            ]
          },
          "metadata": {
            "tags": []
          },
          "execution_count": 8
        }
      ]
    },
    {
      "cell_type": "markdown",
      "metadata": {
        "id": "QkHSrueZvyIm",
        "colab_type": "text"
      },
      "source": [
        "## Get the NULL data"
      ]
    },
    {
      "cell_type": "code",
      "metadata": {
        "colab_type": "code",
        "id": "ILK6wlatKqVA",
        "colab": {}
      },
      "source": [
        "df_null = df[pd.isnull(df).any(axis=1)]"
      ],
      "execution_count": 0,
      "outputs": []
    },
    {
      "cell_type": "code",
      "metadata": {
        "colab_type": "code",
        "id": "R5kGDK-2KqVF",
        "outputId": "098d535c-cadc-4f1f-ddb9-1624c23cdd84",
        "colab": {
          "base_uri": "https://localhost:8080/",
          "height": 301
        }
      },
      "source": [
        "df_null.info()"
      ],
      "execution_count": 0,
      "outputs": [
        {
          "output_type": "stream",
          "text": [
            "<class 'pandas.core.frame.DataFrame'>\n",
            "Int64Index: 7590 entries, 12002 to 13349\n",
            "Data columns (total 11 columns):\n",
            "cant         7348 non-null float64\n",
            "caze         1578 non-null float64\n",
            "gras         7589 non-null float64\n",
            "lact         7589 non-null float64\n",
            "ncs          7589 non-null float64\n",
            "ph           6457 non-null float64\n",
            "prot         7589 non-null float64\n",
            "gras prot    7589 non-null float64\n",
            "sun          7589 non-null float64\n",
            "uree         6248 non-null float64\n",
            "NCS binar    7589 non-null float64\n",
            "dtypes: float64(11)\n",
            "memory usage: 711.6 KB\n"
          ],
          "name": "stdout"
        }
      ]
    },
    {
      "cell_type": "code",
      "metadata": {
        "id": "Uev-4Ei3v6fB",
        "colab_type": "code",
        "outputId": "dc61fc64-f118-48d6-9e37-9b75931f468e",
        "colab": {
          "base_uri": "https://localhost:8080/",
          "height": 287
        }
      },
      "source": [
        "df_null.describe()"
      ],
      "execution_count": 0,
      "outputs": [
        {
          "output_type": "execute_result",
          "data": {
            "text/html": [
              "<div>\n",
              "<style scoped>\n",
              "    .dataframe tbody tr th:only-of-type {\n",
              "        vertical-align: middle;\n",
              "    }\n",
              "\n",
              "    .dataframe tbody tr th {\n",
              "        vertical-align: top;\n",
              "    }\n",
              "\n",
              "    .dataframe thead th {\n",
              "        text-align: right;\n",
              "    }\n",
              "</style>\n",
              "<table border=\"1\" class=\"dataframe\">\n",
              "  <thead>\n",
              "    <tr style=\"text-align: right;\">\n",
              "      <th></th>\n",
              "      <th>cant</th>\n",
              "      <th>caze</th>\n",
              "      <th>gras</th>\n",
              "      <th>lact</th>\n",
              "      <th>ncs</th>\n",
              "      <th>ph</th>\n",
              "      <th>prot</th>\n",
              "      <th>gras prot</th>\n",
              "      <th>sun</th>\n",
              "      <th>uree</th>\n",
              "      <th>NCS binar</th>\n",
              "    </tr>\n",
              "  </thead>\n",
              "  <tbody>\n",
              "    <tr>\n",
              "      <th>count</th>\n",
              "      <td>7348.000000</td>\n",
              "      <td>1578.000000</td>\n",
              "      <td>7589.000000</td>\n",
              "      <td>7589.000000</td>\n",
              "      <td>7589.000000</td>\n",
              "      <td>6457.000000</td>\n",
              "      <td>7589.000000</td>\n",
              "      <td>7589.000000</td>\n",
              "      <td>7589.000000</td>\n",
              "      <td>6248.000000</td>\n",
              "      <td>7589.000000</td>\n",
              "    </tr>\n",
              "    <tr>\n",
              "      <th>mean</th>\n",
              "      <td>8.372047</td>\n",
              "      <td>0.778726</td>\n",
              "      <td>4.021916</td>\n",
              "      <td>4.761154</td>\n",
              "      <td>407.298195</td>\n",
              "      <td>6.576436</td>\n",
              "      <td>3.490543</td>\n",
              "      <td>1.157126</td>\n",
              "      <td>9.064051</td>\n",
              "      <td>18.030746</td>\n",
              "      <td>0.333641</td>\n",
              "    </tr>\n",
              "    <tr>\n",
              "      <th>std</th>\n",
              "      <td>2.713735</td>\n",
              "      <td>1.258699</td>\n",
              "      <td>0.901370</td>\n",
              "      <td>0.239245</td>\n",
              "      <td>1064.194753</td>\n",
              "      <td>0.080871</td>\n",
              "      <td>0.484736</td>\n",
              "      <td>0.231477</td>\n",
              "      <td>0.479926</td>\n",
              "      <td>8.506621</td>\n",
              "      <td>0.471544</td>\n",
              "    </tr>\n",
              "    <tr>\n",
              "      <th>min</th>\n",
              "      <td>1.500000</td>\n",
              "      <td>0.000000</td>\n",
              "      <td>0.690000</td>\n",
              "      <td>2.560000</td>\n",
              "      <td>0.000000</td>\n",
              "      <td>5.500000</td>\n",
              "      <td>2.050000</td>\n",
              "      <td>0.203540</td>\n",
              "      <td>6.860000</td>\n",
              "      <td>0.000000</td>\n",
              "      <td>0.000000</td>\n",
              "    </tr>\n",
              "    <tr>\n",
              "      <th>25%</th>\n",
              "      <td>6.500000</td>\n",
              "      <td>0.000000</td>\n",
              "      <td>3.450000</td>\n",
              "      <td>4.660000</td>\n",
              "      <td>47.000000</td>\n",
              "      <td>6.530000</td>\n",
              "      <td>3.140000</td>\n",
              "      <td>1.023981</td>\n",
              "      <td>8.750000</td>\n",
              "      <td>11.600000</td>\n",
              "      <td>0.000000</td>\n",
              "    </tr>\n",
              "    <tr>\n",
              "      <th>50%</th>\n",
              "      <td>8.200000</td>\n",
              "      <td>0.000000</td>\n",
              "      <td>3.980000</td>\n",
              "      <td>4.790000</td>\n",
              "      <td>110.000000</td>\n",
              "      <td>6.580000</td>\n",
              "      <td>3.450000</td>\n",
              "      <td>1.154545</td>\n",
              "      <td>9.030000</td>\n",
              "      <td>17.700000</td>\n",
              "      <td>0.000000</td>\n",
              "    </tr>\n",
              "    <tr>\n",
              "      <th>75%</th>\n",
              "      <td>10.000000</td>\n",
              "      <td>2.340000</td>\n",
              "      <td>4.570000</td>\n",
              "      <td>4.910000</td>\n",
              "      <td>301.000000</td>\n",
              "      <td>6.620000</td>\n",
              "      <td>3.790000</td>\n",
              "      <td>1.290429</td>\n",
              "      <td>9.360000</td>\n",
              "      <td>24.000000</td>\n",
              "      <td>1.000000</td>\n",
              "    </tr>\n",
              "    <tr>\n",
              "      <th>max</th>\n",
              "      <td>17.400000</td>\n",
              "      <td>4.620000</td>\n",
              "      <td>8.930000</td>\n",
              "      <td>6.120000</td>\n",
              "      <td>23400.000000</td>\n",
              "      <td>7.650000</td>\n",
              "      <td>6.500000</td>\n",
              "      <td>2.545455</td>\n",
              "      <td>13.710000</td>\n",
              "      <td>76.800000</td>\n",
              "      <td>1.000000</td>\n",
              "    </tr>\n",
              "  </tbody>\n",
              "</table>\n",
              "</div>"
            ],
            "text/plain": [
              "              cant         caze  ...         uree    NCS binar\n",
              "count  7348.000000  1578.000000  ...  6248.000000  7589.000000\n",
              "mean      8.372047     0.778726  ...    18.030746     0.333641\n",
              "std       2.713735     1.258699  ...     8.506621     0.471544\n",
              "min       1.500000     0.000000  ...     0.000000     0.000000\n",
              "25%       6.500000     0.000000  ...    11.600000     0.000000\n",
              "50%       8.200000     0.000000  ...    17.700000     0.000000\n",
              "75%      10.000000     2.340000  ...    24.000000     1.000000\n",
              "max      17.400000     4.620000  ...    76.800000     1.000000\n",
              "\n",
              "[8 rows x 11 columns]"
            ]
          },
          "metadata": {
            "tags": []
          },
          "execution_count": 11
        }
      ]
    },
    {
      "cell_type": "code",
      "metadata": {
        "id": "yt5VQqV8v8r7",
        "colab_type": "code",
        "outputId": "28e8d6f6-69c8-4cbc-a4ed-7c0a70fd4875",
        "colab": {
          "base_uri": "https://localhost:8080/",
          "height": 730
        }
      },
      "source": [
        "# NULL data histogram\n",
        "df_null.hist()"
      ],
      "execution_count": 0,
      "outputs": [
        {
          "output_type": "execute_result",
          "data": {
            "text/plain": [
              "array([[<matplotlib.axes._subplots.AxesSubplot object at 0x7f470aa83630>,\n",
              "        <matplotlib.axes._subplots.AxesSubplot object at 0x7f470b352550>,\n",
              "        <matplotlib.axes._subplots.AxesSubplot object at 0x7f470a63f400>],\n",
              "       [<matplotlib.axes._subplots.AxesSubplot object at 0x7f470a62c5c0>,\n",
              "        <matplotlib.axes._subplots.AxesSubplot object at 0x7f470a633eb8>,\n",
              "        <matplotlib.axes._subplots.AxesSubplot object at 0x7f470a5ae710>],\n",
              "       [<matplotlib.axes._subplots.AxesSubplot object at 0x7f470a5dda20>,\n",
              "        <matplotlib.axes._subplots.AxesSubplot object at 0x7f470a4b05c0>,\n",
              "        <matplotlib.axes._subplots.AxesSubplot object at 0x7f470a4b0a20>],\n",
              "       [<matplotlib.axes._subplots.AxesSubplot object at 0x7f470a551780>,\n",
              "        <matplotlib.axes._subplots.AxesSubplot object at 0x7f470a5156d8>,\n",
              "        <matplotlib.axes._subplots.AxesSubplot object at 0x7f470b39aa90>]],\n",
              "      dtype=object)"
            ]
          },
          "metadata": {
            "tags": []
          },
          "execution_count": 12
        },
        {
          "output_type": "display_data",
          "data": {
            "image/png": "[encoded data removed]",
            "text/plain": [
              "<Figure size 720x576 with 12 Axes>"
            ]
          },
          "metadata": {
            "tags": []
          }
        }
      ]
    },
    {
      "cell_type": "markdown",
      "metadata": {
        "id": "hO6ZHH9Mv2Wk",
        "colab_type": "text"
      },
      "source": [
        "## Get the NON-NULL data"
      ]
    },
    {
      "cell_type": "code",
      "metadata": {
        "id": "GQW553c6uZP0",
        "colab_type": "code",
        "colab": {}
      },
      "source": [
        "df_non_null = df[~pd.isnull(df).any(axis=1)]"
      ],
      "execution_count": 0,
      "outputs": []
    },
    {
      "cell_type": "code",
      "metadata": {
        "id": "QcC3e0quu9qj",
        "colab_type": "code",
        "outputId": "73171208-9d62-4c86-a4cb-c0343253bb4c",
        "colab": {
          "base_uri": "https://localhost:8080/",
          "height": 301
        }
      },
      "source": [
        "df_non_null.info()"
      ],
      "execution_count": 0,
      "outputs": [
        {
          "output_type": "stream",
          "text": [
            "<class 'pandas.core.frame.DataFrame'>\n",
            "Int64Index: 6097 entries, 4003 to 235\n",
            "Data columns (total 11 columns):\n",
            "cant         6097 non-null float64\n",
            "caze         6097 non-null float64\n",
            "gras         6097 non-null float64\n",
            "lact         6097 non-null float64\n",
            "ncs          6097 non-null float64\n",
            "ph           6097 non-null float64\n",
            "prot         6097 non-null float64\n",
            "gras prot    6097 non-null float64\n",
            "sun          6097 non-null float64\n",
            "uree         6097 non-null float64\n",
            "NCS binar    6097 non-null float64\n",
            "dtypes: float64(11)\n",
            "memory usage: 571.6 KB\n"
          ],
          "name": "stdout"
        }
      ]
    },
    {
      "cell_type": "code",
      "metadata": {
        "id": "bCaBzHVnvEPD",
        "colab_type": "code",
        "outputId": "f3d97cf5-fdb7-41c1-97f3-a163559e61e7",
        "colab": {
          "base_uri": "https://localhost:8080/",
          "height": 287
        }
      },
      "source": [
        "df_non_null.describe()"
      ],
      "execution_count": 0,
      "outputs": [
        {
          "output_type": "execute_result",
          "data": {
            "text/html": [
              "<div>\n",
              "<style scoped>\n",
              "    .dataframe tbody tr th:only-of-type {\n",
              "        vertical-align: middle;\n",
              "    }\n",
              "\n",
              "    .dataframe tbody tr th {\n",
              "        vertical-align: top;\n",
              "    }\n",
              "\n",
              "    .dataframe thead th {\n",
              "        text-align: right;\n",
              "    }\n",
              "</style>\n",
              "<table border=\"1\" class=\"dataframe\">\n",
              "  <thead>\n",
              "    <tr style=\"text-align: right;\">\n",
              "      <th></th>\n",
              "      <th>cant</th>\n",
              "      <th>caze</th>\n",
              "      <th>gras</th>\n",
              "      <th>lact</th>\n",
              "      <th>ncs</th>\n",
              "      <th>ph</th>\n",
              "      <th>prot</th>\n",
              "      <th>gras prot</th>\n",
              "      <th>sun</th>\n",
              "      <th>uree</th>\n",
              "      <th>NCS binar</th>\n",
              "    </tr>\n",
              "  </thead>\n",
              "  <tbody>\n",
              "    <tr>\n",
              "      <th>count</th>\n",
              "      <td>6097.000000</td>\n",
              "      <td>6097.000000</td>\n",
              "      <td>6097.000000</td>\n",
              "      <td>6097.000000</td>\n",
              "      <td>6097.00000</td>\n",
              "      <td>6097.000000</td>\n",
              "      <td>6097.000000</td>\n",
              "      <td>6097.000000</td>\n",
              "      <td>6097.000000</td>\n",
              "      <td>6097.000000</td>\n",
              "      <td>6097.000000</td>\n",
              "    </tr>\n",
              "    <tr>\n",
              "      <th>mean</th>\n",
              "      <td>7.711940</td>\n",
              "      <td>2.225511</td>\n",
              "      <td>4.093354</td>\n",
              "      <td>4.698296</td>\n",
              "      <td>433.93341</td>\n",
              "      <td>6.582782</td>\n",
              "      <td>3.518242</td>\n",
              "      <td>1.168295</td>\n",
              "      <td>9.014404</td>\n",
              "      <td>20.248106</td>\n",
              "      <td>0.331146</td>\n",
              "    </tr>\n",
              "    <tr>\n",
              "      <th>std</th>\n",
              "      <td>2.661818</td>\n",
              "      <td>1.140497</td>\n",
              "      <td>0.932236</td>\n",
              "      <td>0.248591</td>\n",
              "      <td>1224.10183</td>\n",
              "      <td>0.125730</td>\n",
              "      <td>0.458590</td>\n",
              "      <td>0.245234</td>\n",
              "      <td>0.481920</td>\n",
              "      <td>11.422000</td>\n",
              "      <td>0.470664</td>\n",
              "    </tr>\n",
              "    <tr>\n",
              "      <th>min</th>\n",
              "      <td>1.500000</td>\n",
              "      <td>0.000000</td>\n",
              "      <td>0.410000</td>\n",
              "      <td>2.400000</td>\n",
              "      <td>2.00000</td>\n",
              "      <td>5.610000</td>\n",
              "      <td>2.140000</td>\n",
              "      <td>0.103535</td>\n",
              "      <td>6.800000</td>\n",
              "      <td>0.100000</td>\n",
              "      <td>0.000000</td>\n",
              "    </tr>\n",
              "    <tr>\n",
              "      <th>25%</th>\n",
              "      <td>6.000000</td>\n",
              "      <td>2.270000</td>\n",
              "      <td>3.530000</td>\n",
              "      <td>4.600000</td>\n",
              "      <td>45.00000</td>\n",
              "      <td>6.530000</td>\n",
              "      <td>3.200000</td>\n",
              "      <td>1.033113</td>\n",
              "      <td>8.710000</td>\n",
              "      <td>10.900000</td>\n",
              "      <td>0.000000</td>\n",
              "    </tr>\n",
              "    <tr>\n",
              "      <th>50%</th>\n",
              "      <td>7.500000</td>\n",
              "      <td>2.640000</td>\n",
              "      <td>4.090000</td>\n",
              "      <td>4.730000</td>\n",
              "      <td>104.00000</td>\n",
              "      <td>6.590000</td>\n",
              "      <td>3.500000</td>\n",
              "      <td>1.168539</td>\n",
              "      <td>9.000000</td>\n",
              "      <td>19.400000</td>\n",
              "      <td>0.000000</td>\n",
              "    </tr>\n",
              "    <tr>\n",
              "      <th>75%</th>\n",
              "      <td>9.300000</td>\n",
              "      <td>2.920000</td>\n",
              "      <td>4.660000</td>\n",
              "      <td>4.850000</td>\n",
              "      <td>283.00000</td>\n",
              "      <td>6.640000</td>\n",
              "      <td>3.810000</td>\n",
              "      <td>1.304469</td>\n",
              "      <td>9.310000</td>\n",
              "      <td>28.200000</td>\n",
              "      <td>1.000000</td>\n",
              "    </tr>\n",
              "    <tr>\n",
              "      <th>max</th>\n",
              "      <td>19.000000</td>\n",
              "      <td>5.420000</td>\n",
              "      <td>9.850000</td>\n",
              "      <td>8.310000</td>\n",
              "      <td>20796.00000</td>\n",
              "      <td>13.340000</td>\n",
              "      <td>7.110000</td>\n",
              "      <td>2.705036</td>\n",
              "      <td>16.940000</td>\n",
              "      <td>78.600000</td>\n",
              "      <td>1.000000</td>\n",
              "    </tr>\n",
              "  </tbody>\n",
              "</table>\n",
              "</div>"
            ],
            "text/plain": [
              "              cant         caze  ...         uree    NCS binar\n",
              "count  6097.000000  6097.000000  ...  6097.000000  6097.000000\n",
              "mean      7.711940     2.225511  ...    20.248106     0.331146\n",
              "std       2.661818     1.140497  ...    11.422000     0.470664\n",
              "min       1.500000     0.000000  ...     0.100000     0.000000\n",
              "25%       6.000000     2.270000  ...    10.900000     0.000000\n",
              "50%       7.500000     2.640000  ...    19.400000     0.000000\n",
              "75%       9.300000     2.920000  ...    28.200000     1.000000\n",
              "max      19.000000     5.420000  ...    78.600000     1.000000\n",
              "\n",
              "[8 rows x 11 columns]"
            ]
          },
          "metadata": {
            "tags": []
          },
          "execution_count": 15
        }
      ]
    },
    {
      "cell_type": "code",
      "metadata": {
        "id": "FDxx8gxSwQcY",
        "colab_type": "code",
        "outputId": "0c1ff4f8-c5f5-4f08-e718-22ebd39c3a49",
        "colab": {
          "base_uri": "https://localhost:8080/",
          "height": 730
        }
      },
      "source": [
        "df_non_null.hist()"
      ],
      "execution_count": 0,
      "outputs": [
        {
          "output_type": "execute_result",
          "data": {
            "text/plain": [
              "array([[<matplotlib.axes._subplots.AxesSubplot object at 0x7f470a92a208>,\n",
              "        <matplotlib.axes._subplots.AxesSubplot object at 0x7f470a703a90>,\n",
              "        <matplotlib.axes._subplots.AxesSubplot object at 0x7f470a68bf28>],\n",
              "       [<matplotlib.axes._subplots.AxesSubplot object at 0x7f470aae34e0>,\n",
              "        <matplotlib.axes._subplots.AxesSubplot object at 0x7f470aae8a58>,\n",
              "        <matplotlib.axes._subplots.AxesSubplot object at 0x7f470a8e2fd0>],\n",
              "       [<matplotlib.axes._subplots.AxesSubplot object at 0x7f470a9ea588>,\n",
              "        <matplotlib.axes._subplots.AxesSubplot object at 0x7f470a9d5b38>,\n",
              "        <matplotlib.axes._subplots.AxesSubplot object at 0x7f470a9d5b70>],\n",
              "       [<matplotlib.axes._subplots.AxesSubplot object at 0x7f470a726630>,\n",
              "        <matplotlib.axes._subplots.AxesSubplot object at 0x7f470a7455f8>,\n",
              "        <matplotlib.axes._subplots.AxesSubplot object at 0x7f470ad74160>]],\n",
              "      dtype=object)"
            ]
          },
          "metadata": {
            "tags": []
          },
          "execution_count": 16
        },
        {
          "output_type": "display_data",
          "data": {
            "image/png": "[encoded data removed]",
            "text/plain": [
              "<Figure size 720x576 with 12 Axes>"
            ]
          },
          "metadata": {
            "tags": []
          }
        }
      ]
    },
    {
      "cell_type": "code",
      "metadata": {
        "id": "YqZCvdLWxSdE",
        "colab_type": "code",
        "outputId": "d707298a-ecf9-447d-aac4-22b4a25026b1",
        "colab": {
          "base_uri": "https://localhost:8080/",
          "height": 105
        }
      },
      "source": [
        "df_null.fillna(0, inplace=True)"
      ],
      "execution_count": 0,
      "outputs": [
        {
          "output_type": "stream",
          "text": [
            "/usr/local/lib/python3.6/dist-packages/pandas/core/frame.py:4034: SettingWithCopyWarning: \n",
            "A value is trying to be set on a copy of a slice from a DataFrame\n",
            "\n",
            "See the caveats in the documentation: http://pandas.pydata.org/pandas-docs/stable/indexing.html#indexing-view-versus-copy\n",
            "  downcast=downcast, **kwargs)\n"
          ],
          "name": "stderr"
        }
      ]
    },
    {
      "cell_type": "code",
      "metadata": {
        "id": "98cBy65XxwF_",
        "colab_type": "code",
        "outputId": "ba4dd79c-c313-4a15-b1c4-875286162e6e",
        "colab": {
          "base_uri": "https://localhost:8080/",
          "height": 730
        }
      },
      "source": [
        "df_null.hist()"
      ],
      "execution_count": 0,
      "outputs": [
        {
          "output_type": "execute_result",
          "data": {
            "text/plain": [
              "array([[<matplotlib.axes._subplots.AxesSubplot object at 0x7f470b1e3828>,\n",
              "        <matplotlib.axes._subplots.AxesSubplot object at 0x7f470b05d668>,\n",
              "        <matplotlib.axes._subplots.AxesSubplot object at 0x7f470b07dbe0>],\n",
              "       [<matplotlib.axes._subplots.AxesSubplot object at 0x7f470b02f198>,\n",
              "        <matplotlib.axes._subplots.AxesSubplot object at 0x7f470afd5710>,\n",
              "        <matplotlib.axes._subplots.AxesSubplot object at 0x7f470afffc88>],\n",
              "       [<matplotlib.axes._subplots.AxesSubplot object at 0x7f470afaf240>,\n",
              "        <matplotlib.axes._subplots.AxesSubplot object at 0x7f470af577f0>,\n",
              "        <matplotlib.axes._subplots.AxesSubplot object at 0x7f470af57828>],\n",
              "       [<matplotlib.axes._subplots.AxesSubplot object at 0x7f470af312e8>,\n",
              "        <matplotlib.axes._subplots.AxesSubplot object at 0x7f470aed8860>,\n",
              "        <matplotlib.axes._subplots.AxesSubplot object at 0x7f470af01dd8>]],\n",
              "      dtype=object)"
            ]
          },
          "metadata": {
            "tags": []
          },
          "execution_count": 18
        },
        {
          "output_type": "display_data",
          "data": {
            "image/png": "[encoded data removed]",
            "text/plain": [
              "<Figure size 720x576 with 12 Axes>"
            ]
          },
          "metadata": {
            "tags": []
          }
        }
      ]
    },
    {
      "cell_type": "markdown",
      "metadata": {
        "id": "ZgMD90A_vtZ4",
        "colab_type": "text"
      },
      "source": [
        "#Explore the data"
      ]
    },
    {
      "cell_type": "code",
      "metadata": {
        "id": "7BTZmwBHIdVq",
        "colab_type": "code",
        "outputId": "0aedfeea-dc67-4e14-cbe7-49939746546a",
        "colab": {
          "base_uri": "https://localhost:8080/",
          "height": 197
        }
      },
      "source": [
        "df.head()"
      ],
      "execution_count": 0,
      "outputs": [
        {
          "output_type": "execute_result",
          "data": {
            "text/html": [
              "<div>\n",
              "<style scoped>\n",
              "    .dataframe tbody tr th:only-of-type {\n",
              "        vertical-align: middle;\n",
              "    }\n",
              "\n",
              "    .dataframe tbody tr th {\n",
              "        vertical-align: top;\n",
              "    }\n",
              "\n",
              "    .dataframe thead th {\n",
              "        text-align: right;\n",
              "    }\n",
              "</style>\n",
              "<table border=\"1\" class=\"dataframe\">\n",
              "  <thead>\n",
              "    <tr style=\"text-align: right;\">\n",
              "      <th></th>\n",
              "      <th>cant</th>\n",
              "      <th>caze</th>\n",
              "      <th>gras</th>\n",
              "      <th>lact</th>\n",
              "      <th>ncs</th>\n",
              "      <th>ph</th>\n",
              "      <th>prot</th>\n",
              "      <th>gras prot</th>\n",
              "      <th>sun</th>\n",
              "      <th>uree</th>\n",
              "      <th>NCS binar</th>\n",
              "    </tr>\n",
              "  </thead>\n",
              "  <tbody>\n",
              "    <tr>\n",
              "      <th>4003</th>\n",
              "      <td>12.0</td>\n",
              "      <td>2.69</td>\n",
              "      <td>5.24</td>\n",
              "      <td>4.57</td>\n",
              "      <td>106.0</td>\n",
              "      <td>6.62</td>\n",
              "      <td>3.36</td>\n",
              "      <td>1.559524</td>\n",
              "      <td>8.60</td>\n",
              "      <td>3.7</td>\n",
              "      <td>0.0</td>\n",
              "    </tr>\n",
              "    <tr>\n",
              "      <th>10445</th>\n",
              "      <td>7.0</td>\n",
              "      <td>2.78</td>\n",
              "      <td>5.49</td>\n",
              "      <td>4.73</td>\n",
              "      <td>4555.0</td>\n",
              "      <td>6.62</td>\n",
              "      <td>3.44</td>\n",
              "      <td>1.595930</td>\n",
              "      <td>8.88</td>\n",
              "      <td>3.5</td>\n",
              "      <td>1.0</td>\n",
              "    </tr>\n",
              "    <tr>\n",
              "      <th>12002</th>\n",
              "      <td>11.0</td>\n",
              "      <td>NaN</td>\n",
              "      <td>4.84</td>\n",
              "      <td>4.82</td>\n",
              "      <td>17.0</td>\n",
              "      <td>6.62</td>\n",
              "      <td>3.29</td>\n",
              "      <td>1.471125</td>\n",
              "      <td>9.05</td>\n",
              "      <td>23.2</td>\n",
              "      <td>0.0</td>\n",
              "    </tr>\n",
              "    <tr>\n",
              "      <th>5440</th>\n",
              "      <td>10.0</td>\n",
              "      <td>NaN</td>\n",
              "      <td>4.12</td>\n",
              "      <td>5.14</td>\n",
              "      <td>17.0</td>\n",
              "      <td>6.67</td>\n",
              "      <td>3.23</td>\n",
              "      <td>1.275542</td>\n",
              "      <td>9.22</td>\n",
              "      <td>30.3</td>\n",
              "      <td>0.0</td>\n",
              "    </tr>\n",
              "    <tr>\n",
              "      <th>6034</th>\n",
              "      <td>9.9</td>\n",
              "      <td>NaN</td>\n",
              "      <td>4.73</td>\n",
              "      <td>4.65</td>\n",
              "      <td>157.0</td>\n",
              "      <td>6.61</td>\n",
              "      <td>3.38</td>\n",
              "      <td>1.399408</td>\n",
              "      <td>8.96</td>\n",
              "      <td>11.4</td>\n",
              "      <td>0.0</td>\n",
              "    </tr>\n",
              "  </tbody>\n",
              "</table>\n",
              "</div>"
            ],
            "text/plain": [
              "       cant  caze  gras  lact     ncs  ...  prot  gras prot   sun  uree  NCS binar\n",
              "4003   12.0  2.69  5.24  4.57   106.0  ...  3.36   1.559524  8.60   3.7        0.0\n",
              "10445   7.0  2.78  5.49  4.73  4555.0  ...  3.44   1.595930  8.88   3.5        1.0\n",
              "12002  11.0   NaN  4.84  4.82    17.0  ...  3.29   1.471125  9.05  23.2        0.0\n",
              "5440   10.0   NaN  4.12  5.14    17.0  ...  3.23   1.275542  9.22  30.3        0.0\n",
              "6034    9.9   NaN  4.73  4.65   157.0  ...  3.38   1.399408  8.96  11.4        0.0\n",
              "\n",
              "[5 rows x 11 columns]"
            ]
          },
          "metadata": {
            "tags": []
          },
          "execution_count": 19
        }
      ]
    },
    {
      "cell_type": "code",
      "metadata": {
        "id": "9bz2G8ubqLqC",
        "colab_type": "code",
        "outputId": "31c67472-5dbd-43fb-8912-ad7d83590fbb",
        "colab": {
          "base_uri": "https://localhost:8080/",
          "height": 301
        }
      },
      "source": [
        "df.info()"
      ],
      "execution_count": 0,
      "outputs": [
        {
          "output_type": "stream",
          "text": [
            "<class 'pandas.core.frame.DataFrame'>\n",
            "Int64Index: 13687 entries, 4003 to 13349\n",
            "Data columns (total 11 columns):\n",
            "cant         13445 non-null float64\n",
            "caze         7675 non-null float64\n",
            "gras         13686 non-null float64\n",
            "lact         13686 non-null float64\n",
            "ncs          13686 non-null float64\n",
            "ph           12554 non-null float64\n",
            "prot         13686 non-null float64\n",
            "gras prot    13686 non-null float64\n",
            "sun          13686 non-null float64\n",
            "uree         12345 non-null float64\n",
            "NCS binar    13686 non-null float64\n",
            "dtypes: float64(11)\n",
            "memory usage: 1.3 MB\n"
          ],
          "name": "stdout"
        }
      ]
    },
    {
      "cell_type": "code",
      "metadata": {
        "id": "gutSXkwNq5t3",
        "colab_type": "code",
        "colab": {}
      },
      "source": [
        "df_null = df[pd.isnull(df).any(axis=1)]"
      ],
      "execution_count": 0,
      "outputs": []
    },
    {
      "cell_type": "code",
      "metadata": {
        "id": "Kwxa9qTHratZ",
        "colab_type": "code",
        "outputId": "83b48984-563c-4932-8a36-a0a7c88da2a0",
        "colab": {
          "base_uri": "https://localhost:8080/",
          "height": 301
        }
      },
      "source": [
        "df_null.info()"
      ],
      "execution_count": 0,
      "outputs": [
        {
          "output_type": "stream",
          "text": [
            "<class 'pandas.core.frame.DataFrame'>\n",
            "Int64Index: 7590 entries, 12002 to 13349\n",
            "Data columns (total 11 columns):\n",
            "cant         7348 non-null float64\n",
            "caze         1578 non-null float64\n",
            "gras         7589 non-null float64\n",
            "lact         7589 non-null float64\n",
            "ncs          7589 non-null float64\n",
            "ph           6457 non-null float64\n",
            "prot         7589 non-null float64\n",
            "gras prot    7589 non-null float64\n",
            "sun          7589 non-null float64\n",
            "uree         6248 non-null float64\n",
            "NCS binar    7589 non-null float64\n",
            "dtypes: float64(11)\n",
            "memory usage: 711.6 KB\n"
          ],
          "name": "stdout"
        }
      ]
    },
    {
      "cell_type": "code",
      "metadata": {
        "id": "ewCffjOEYmdy",
        "colab_type": "code",
        "outputId": "930a4b18-e255-4aae-d92d-5ff74644ecca",
        "colab": {
          "base_uri": "https://localhost:8080/",
          "height": 123
        }
      },
      "source": [
        "df['NCS binar'] = df['NCS binar'].astype('category')\n",
        "df_non_null['NCS binar'] = df_non_null['NCS binar'].astype('category')\n",
        "cat_cols = ['NCS binar']"
      ],
      "execution_count": 0,
      "outputs": [
        {
          "output_type": "stream",
          "text": [
            "/usr/local/lib/python3.6/dist-packages/ipykernel_launcher.py:2: SettingWithCopyWarning: \n",
            "A value is trying to be set on a copy of a slice from a DataFrame.\n",
            "Try using .loc[row_indexer,col_indexer] = value instead\n",
            "\n",
            "See the caveats in the documentation: http://pandas.pydata.org/pandas-docs/stable/indexing.html#indexing-view-versus-copy\n",
            "  \n"
          ],
          "name": "stderr"
        }
      ]
    },
    {
      "cell_type": "code",
      "metadata": {
        "id": "dPps8ymcZPrk",
        "colab_type": "code",
        "outputId": "c560d1ff-ed94-4ab2-baac-1c2ba9bb7d14",
        "colab": {
          "base_uri": "https://localhost:8080/",
          "height": 301
        }
      },
      "source": [
        "df_non_null.info()"
      ],
      "execution_count": 0,
      "outputs": [
        {
          "output_type": "stream",
          "text": [
            "<class 'pandas.core.frame.DataFrame'>\n",
            "Int64Index: 6097 entries, 4003 to 235\n",
            "Data columns (total 11 columns):\n",
            "cant         6097 non-null float64\n",
            "caze         6097 non-null float64\n",
            "gras         6097 non-null float64\n",
            "lact         6097 non-null float64\n",
            "ncs          6097 non-null float64\n",
            "ph           6097 non-null float64\n",
            "prot         6097 non-null float64\n",
            "gras prot    6097 non-null float64\n",
            "sun          6097 non-null float64\n",
            "uree         6097 non-null float64\n",
            "NCS binar    6097 non-null category\n",
            "dtypes: category(1), float64(10)\n",
            "memory usage: 530.0 KB\n"
          ],
          "name": "stdout"
        }
      ]
    },
    {
      "cell_type": "markdown",
      "metadata": {
        "id": "GRRZgCPE2WJS",
        "colab_type": "text"
      },
      "source": [
        "# Make data become missing"
      ]
    },
    {
      "cell_type": "code",
      "metadata": {
        "id": "JJBNlVLoJloq",
        "colab_type": "code",
        "colab": {}
      },
      "source": [
        "from sklearn.utils import resample\n",
        "prob_missing = 0.3\n",
        "df_incomplete = df_non_null.copy()\n",
        "ix = [(row, col) for row in range(df_non_null.shape[0]) for col in range(df_non_null.shape[1])]\n",
        "L = resample(ix, n_samples = int(prob_missing*len(ix)), random_state=LOCAL_SEED)\n",
        "for row, col in L:\n",
        "    df_incomplete.iat[row, col] = np.nan"
      ],
      "execution_count": 0,
      "outputs": []
    },
    {
      "cell_type": "code",
      "metadata": {
        "id": "lDDT8QZXMZ9p",
        "colab_type": "code",
        "outputId": "f6567d6c-746b-4c34-92bd-06bbd45a3680",
        "colab": {
          "base_uri": "https://localhost:8080/",
          "height": 301
        }
      },
      "source": [
        "df_incomplete.info()"
      ],
      "execution_count": 0,
      "outputs": [
        {
          "output_type": "stream",
          "text": [
            "<class 'pandas.core.frame.DataFrame'>\n",
            "Int64Index: 6097 entries, 4003 to 235\n",
            "Data columns (total 11 columns):\n",
            "cant         5514 non-null float64\n",
            "caze         5511 non-null float64\n",
            "gras         5527 non-null float64\n",
            "lact         5540 non-null float64\n",
            "ncs          5534 non-null float64\n",
            "ph           5523 non-null float64\n",
            "prot         5530 non-null float64\n",
            "gras prot    5496 non-null float64\n",
            "sun          5511 non-null float64\n",
            "uree         5504 non-null float64\n",
            "NCS binar    5474 non-null category\n",
            "dtypes: category(1), float64(10)\n",
            "memory usage: 530.0 KB\n"
          ],
          "name": "stdout"
        }
      ]
    },
    {
      "cell_type": "code",
      "metadata": {
        "id": "lDlflMKPZSn0",
        "colab_type": "code",
        "colab": {}
      },
      "source": [
        "missing_encoded = pd.get_dummies(df_incomplete)\n",
        "\n",
        "for col in df.columns:\n",
        "    missing_cols = missing_encoded.columns.str.startswith(str(col) + \"_\")\n",
        "    missing_encoded.loc[df_incomplete[col].isnull(), missing_cols] = np.nan"
      ],
      "execution_count": 0,
      "outputs": []
    },
    {
      "cell_type": "code",
      "metadata": {
        "id": "ntnenzc17rDV",
        "colab_type": "code",
        "outputId": "af597768-5d41-4265-f320-8c6526b535b2",
        "colab": {
          "base_uri": "https://localhost:8080/",
          "height": 197
        }
      },
      "source": [
        "missing_encoded.head()"
      ],
      "execution_count": 0,
      "outputs": [
        {
          "output_type": "execute_result",
          "data": {
            "text/html": [
              "<div>\n",
              "<style scoped>\n",
              "    .dataframe tbody tr th:only-of-type {\n",
              "        vertical-align: middle;\n",
              "    }\n",
              "\n",
              "    .dataframe tbody tr th {\n",
              "        vertical-align: top;\n",
              "    }\n",
              "\n",
              "    .dataframe thead th {\n",
              "        text-align: right;\n",
              "    }\n",
              "</style>\n",
              "<table border=\"1\" class=\"dataframe\">\n",
              "  <thead>\n",
              "    <tr style=\"text-align: right;\">\n",
              "      <th></th>\n",
              "      <th>cant</th>\n",
              "      <th>caze</th>\n",
              "      <th>gras</th>\n",
              "      <th>lact</th>\n",
              "      <th>ncs</th>\n",
              "      <th>ph</th>\n",
              "      <th>prot</th>\n",
              "      <th>gras prot</th>\n",
              "      <th>sun</th>\n",
              "      <th>uree</th>\n",
              "      <th>NCS binar_0.0</th>\n",
              "      <th>NCS binar_1.0</th>\n",
              "    </tr>\n",
              "  </thead>\n",
              "  <tbody>\n",
              "    <tr>\n",
              "      <th>4003</th>\n",
              "      <td>12.0</td>\n",
              "      <td>2.69</td>\n",
              "      <td>5.24</td>\n",
              "      <td>4.57</td>\n",
              "      <td>106.0</td>\n",
              "      <td>6.62</td>\n",
              "      <td>3.36</td>\n",
              "      <td>1.559524</td>\n",
              "      <td>8.60</td>\n",
              "      <td>3.7</td>\n",
              "      <td>1.0</td>\n",
              "      <td>0.0</td>\n",
              "    </tr>\n",
              "    <tr>\n",
              "      <th>10445</th>\n",
              "      <td>7.0</td>\n",
              "      <td>2.78</td>\n",
              "      <td>5.49</td>\n",
              "      <td>4.73</td>\n",
              "      <td>4555.0</td>\n",
              "      <td>6.62</td>\n",
              "      <td>3.44</td>\n",
              "      <td>1.595930</td>\n",
              "      <td>8.88</td>\n",
              "      <td>3.5</td>\n",
              "      <td>0.0</td>\n",
              "      <td>1.0</td>\n",
              "    </tr>\n",
              "    <tr>\n",
              "      <th>2063</th>\n",
              "      <td>7.0</td>\n",
              "      <td>0.00</td>\n",
              "      <td>3.97</td>\n",
              "      <td>4.83</td>\n",
              "      <td>158.0</td>\n",
              "      <td>6.61</td>\n",
              "      <td>NaN</td>\n",
              "      <td>1.121469</td>\n",
              "      <td>9.21</td>\n",
              "      <td>33.7</td>\n",
              "      <td>1.0</td>\n",
              "      <td>0.0</td>\n",
              "    </tr>\n",
              "    <tr>\n",
              "      <th>6571</th>\n",
              "      <td>2.3</td>\n",
              "      <td>0.00</td>\n",
              "      <td>4.42</td>\n",
              "      <td>4.29</td>\n",
              "      <td>634.0</td>\n",
              "      <td>6.54</td>\n",
              "      <td>4.03</td>\n",
              "      <td>1.096774</td>\n",
              "      <td>9.23</td>\n",
              "      <td>16.1</td>\n",
              "      <td>0.0</td>\n",
              "      <td>1.0</td>\n",
              "    </tr>\n",
              "    <tr>\n",
              "      <th>3796</th>\n",
              "      <td>5.7</td>\n",
              "      <td>0.00</td>\n",
              "      <td>4.54</td>\n",
              "      <td>4.62</td>\n",
              "      <td>105.0</td>\n",
              "      <td>6.59</td>\n",
              "      <td>3.55</td>\n",
              "      <td>1.278873</td>\n",
              "      <td>9.10</td>\n",
              "      <td>28.2</td>\n",
              "      <td>1.0</td>\n",
              "      <td>0.0</td>\n",
              "    </tr>\n",
              "  </tbody>\n",
              "</table>\n",
              "</div>"
            ],
            "text/plain": [
              "       cant  caze  gras  lact  ...   sun  uree  NCS binar_0.0  NCS binar_1.0\n",
              "4003   12.0  2.69  5.24  4.57  ...  8.60   3.7            1.0            0.0\n",
              "10445   7.0  2.78  5.49  4.73  ...  8.88   3.5            0.0            1.0\n",
              "2063    7.0  0.00  3.97  4.83  ...  9.21  33.7            1.0            0.0\n",
              "6571    2.3  0.00  4.42  4.29  ...  9.23  16.1            0.0            1.0\n",
              "3796    5.7  0.00  4.54  4.62  ...  9.10  28.2            1.0            0.0\n",
              "\n",
              "[5 rows x 12 columns]"
            ]
          },
          "metadata": {
            "tags": []
          },
          "execution_count": 28
        }
      ]
    },
    {
      "cell_type": "code",
      "metadata": {
        "id": "s_7GuK_df_TZ",
        "colab_type": "code",
        "colab": {}
      },
      "source": [
        "hidden_size = 1000\n",
        "n_epochs = 100\n",
        "n_batch_size=1024"
      ],
      "execution_count": 0,
      "outputs": []
    },
    {
      "cell_type": "code",
      "metadata": {
        "id": "0dNiaTLkMxq3",
        "colab_type": "code",
        "colab": {}
      },
      "source": [
        "def masked_mae(X_true, X_pred, mask):\n",
        "    masked_diff = X_true[mask] - X_pred[mask]\n",
        "    return np.mean(np.abs(masked_diff))"
      ],
      "execution_count": 0,
      "outputs": []
    },
    {
      "cell_type": "code",
      "metadata": {
        "colab_type": "code",
        "id": "AF6didNfuiSp",
        "colab": {}
      },
      "source": [
        "def reverse_encoding(df_test_dummies):\n",
        "    names = list(df_test_dummies)\n",
        "    c_dict = {}\n",
        "    for n in names:\n",
        "        if '_' in n:\n",
        "            index = n.index('_')\n",
        "            c_dict[n[:index]] = [c for c in names if n[:index+1] in c]\n",
        "    values = []\n",
        "    for key, items in c_dict.items():\n",
        "        dummies = df_test_dummies[items]\n",
        "        d_names = list(dummies)\n",
        "        c_dict = {}\n",
        "        for n in d_names:\n",
        "            c_dict[n] = n[n.index('_')+1:]\n",
        "        dummies.rename(columns=c_dict, \n",
        "                    inplace=True)\n",
        "        df_test_dummies[key] = dummies.idxmax(axis=1)\n",
        "        df_test_dummies.drop(items, axis=1, inplace=True)\n",
        "    print(df_test_dummies.head())\n",
        "    return df_test_dummies"
      ],
      "execution_count": 0,
      "outputs": []
    },
    {
      "cell_type": "markdown",
      "metadata": {
        "id": "E2Eg6YJ1tvfP",
        "colab_type": "text"
      },
      "source": [
        "# AutoEncoder with Dropout"
      ]
    },
    {
      "cell_type": "code",
      "metadata": {
        "id": "t3BA-97jlmzk",
        "colab_type": "code",
        "colab": {}
      },
      "source": [
        "from sklearn.model_selection import train_test_split\n",
        "values = missing_encoded.values.copy()\n",
        "train, test, comp_train, comp_test = train_test_split(values,\n",
        "                                                      df_non_null.values.copy(),\n",
        "                                                      test_size=0.1,\n",
        "                                                      random_state=LOCAL_SEED)\n",
        "scaler = MinMaxScaler().fit(train)\n",
        "x_train = scaler.transform(train)\n",
        "x_test = scaler.transform(test)\n",
        "n_dims = x_train.shape[1]"
      ],
      "execution_count": 0,
      "outputs": []
    },
    {
      "cell_type": "code",
      "metadata": {
        "id": "pJyWx03VHfCc",
        "colab_type": "code",
        "colab": {}
      },
      "source": [
        "cols = df_non_null.columns\n",
        "df_test_complete = pd.DataFrame(columns=cols, \n",
        "                                data=comp_test)"
      ],
      "execution_count": 0,
      "outputs": []
    },
    {
      "cell_type": "code",
      "metadata": {
        "id": "7j-GqCbvMptj",
        "colab_type": "code",
        "colab": {}
      },
      "source": [
        "class AutoEncoderDropout:\n",
        "    def __init__(self, \n",
        "                 n_dims,\n",
        "                 recurrent_weight=0.5,\n",
        "                 optimizer=\"adam\",\n",
        "                 dropout_probability=0.5,\n",
        "                 hidden_activation=\"relu\",\n",
        "                 output_activation=\"sigmoid\",\n",
        "                 init=\"glorot_normal\",\n",
        "                 l1_penalty=1e-3,\n",
        "                 l2_penalty=1e-3,\n",
        "                 hidden_size=hidden_size):\n",
        "        self.n_dims = n_dims\n",
        "        self.recurrent_weight = recurrent_weight\n",
        "        self.optimizer = optimizer\n",
        "        self.dropout_probability = dropout_probability\n",
        "        self.hidden_activation = hidden_activation\n",
        "        self.output_activation = output_activation\n",
        "        self.init = init\n",
        "        self.l1_penalty = l1_penalty\n",
        "        self.l2_penalty = l2_penalty\n",
        "        self.hidden_size = hidden_size\n",
        "\n",
        "    def make_reconstruction_loss(self, n_features):\n",
        "        def reconstruction_loss(input_and_mask, y_pred):\n",
        "            X_values = input_and_mask[:, :n_features]\n",
        "            missing_mask = input_and_mask[:, n_features:]\n",
        "            observed_mask = 1 - missing_mask\n",
        "            X_values_observed = X_values * observed_mask\n",
        "            pred_observed = y_pred * observed_mask\n",
        "            return binary_crossentropy(y_true=X_values_observed, \n",
        "                                       y_pred=pred_observed)\n",
        "        return reconstruction_loss\n",
        "\n",
        "    def _create_model(self):\n",
        "        latent_dim = int(np.ceil(self.n_dims*0.5))\n",
        "        inputs = Input(shape=(2*self.n_dims, ), \n",
        "                       name='encoder_input')\n",
        "        x = inputs\n",
        "        x = Dense(self.hidden_size, activation=self.hidden_activation,\n",
        "                  init=self.init,\n",
        "                  kernel_regularizer=l2(self.l2_penalty),\n",
        "                  bias_regularizer=l2(self.l2_penalty))(x)\n",
        "        x = Dropout(self.dropout_probability)(x)\n",
        "        x = Dense(self.hidden_size//4, activation=self.hidden_activation,\n",
        "                  init=self.init,\n",
        "                  kernel_regularizer=l2(self.l2_penalty),\n",
        "                  bias_regularizer=l2(self.l2_penalty))(x)\n",
        "        x = Dropout(self.dropout_probability)(x)\n",
        "        encoded = Dense(latent_dim, name='encoding')(x)\n",
        "        self.encoder = Model(inputs, encoded, name='encoder')\n",
        "        latent_inputs = Input(shape=(latent_dim,), name='decoder_input')\n",
        "        x = latent_inputs\n",
        "        x = Dense(self.hidden_size//4, activation=self.hidden_activation,\n",
        "                  init=self.init,\n",
        "                  kernel_regularizer=l2(self.l2_penalty),\n",
        "                  bias_regularizer=l2(self.l2_penalty))(x)\n",
        "        x = Dropout(self.dropout_probability)(x)\n",
        "        x = Dense(self.hidden_size, activation=self.hidden_activation,\n",
        "                  init=self.init,\n",
        "                  kernel_regularizer=l2(self.l2_penalty),\n",
        "                  bias_regularizer=l2(self.l2_penalty))(x)\n",
        "        x = Dropout(self.dropout_probability)(x)\n",
        "        outputs = Dense(self.n_dims, activation=self.output_activation,\n",
        "                        init=self.init,\n",
        "                        kernel_regularizer=l2(self.l2_penalty),\n",
        "                        bias_regularizer=l2(self.l2_penalty))(x)\n",
        "        self.decoder = Model(latent_inputs, \n",
        "                             outputs, \n",
        "                             name='decoder')\n",
        "        outputs = self.decoder(self.encoder(inputs))\n",
        "        self.model = Model(inputs, outputs, name='ae_mlp')\n",
        "        loss_function = self.make_reconstruction_loss(self.n_dims)\n",
        "        self.model.compile(optimizer=self.optimizer, \n",
        "                           loss=loss_function)\n",
        "\n",
        "    def fill(self, data, missing_mask):\n",
        "        data[missing_mask] = -1\n",
        "        return data\n",
        "\n",
        "    def _create_missing_mask(self, data):\n",
        "        if data.dtype != \"f\" and data.dtype != \"d\":\n",
        "            data = data.astype(float)\n",
        "        return np.isnan(data)\n",
        "\n",
        "    def _train_epoch(self, data, missing_mask, batch_size):\n",
        "        input_with_mask = np.hstack([data, missing_mask])\n",
        "        n_samples = len(input_with_mask)\n",
        "        n_batches = int(np.ceil(n_samples / batch_size))\n",
        "        indices = np.arange(n_samples)\n",
        "        np.random.shuffle(indices)\n",
        "        X_shuffled = input_with_mask[indices]\n",
        "        for batch_idx in range(n_batches):\n",
        "            batch_start = batch_idx * batch_size\n",
        "            batch_end = (batch_idx + 1) * batch_size\n",
        "            batch_data = X_shuffled[batch_start:batch_end, :]\n",
        "            self.model.train_on_batch(batch_data, batch_data)\n",
        "        return self.model.predict(input_with_mask)\n",
        "    \n",
        "    def predict(self, x_test_with_mask):\n",
        "        predict_stochastic = K.function([self.decoder.layers[0].input,\n",
        "                                        K.learning_phase()],\n",
        "                                        [self.decoder.layers[-1].output])\n",
        "        latent_input = self.encoder.predict(x_test_with_mask)\n",
        "\n",
        "        outputs = np.array([np.array(predict_stochastic([latent_input, \n",
        "                                                         1])).reshape((x_test_with_mask.shape[0], \n",
        "                                                                       x_test_with_mask.shape[1]//2)) for _ in range(50)])\n",
        "        return np.mean(outputs, axis=0)\n",
        "\n",
        "    def predict_dist(self, x_test, n_epochs=50):\n",
        "        predict_stochastic = K.function([self.decoder.layers[0].input,\n",
        "                                        K.learning_phase()],\n",
        "                                        [self.decoder.layers[-1].output])\n",
        "        x_test_missing_mask = self._create_missing_mask(x_test) \n",
        "        x_test = self.fill(x_test, x_test_missing_mask)\n",
        "        x_test_observed_mask = ~x_test_missing_mask\n",
        "        x_test_with_mask = np.hstack([x_test, x_test_missing_mask])\n",
        "        latent_input = self.encoder.predict(x_test_with_mask)\n",
        "        X_test_pred = np.array([predict_stochastic([latent_input, 1])])\n",
        "        X_test_pred = X_test_pred.reshape((x_test.shape[0], x_test.shape[1]))\n",
        "        print(X_test_pred.shape)\n",
        "        for _ in range(n_epochs):\n",
        "            old_weight = (1.0 - self.recurrent_weight)\n",
        "            x_test[x_test_missing_mask] *= old_weight\n",
        "            x_test_pred_missing = X_test_pred[x_test_missing_mask]\n",
        "            x_test[x_test_missing_mask] += self.recurrent_weight * x_test_pred_missing\n",
        "        return x_test\n",
        "\n",
        "    def train(self, x_train, x_test, batch_size=256, train_epochs=100):\n",
        "        missing_mask = self._create_missing_mask(x_train)\n",
        "        x_train = self.fill(x_train, missing_mask)\n",
        "        x_test_missing_mask = self._create_missing_mask(x_test) \n",
        "        x_test = self.fill(x_test, x_test_missing_mask)\n",
        "\n",
        "        self._create_model()\n",
        "        \n",
        "        observed_mask = ~missing_mask\n",
        "        x_test_observed_mask = ~x_test_missing_mask\n",
        "        input_with_mask = np.hstack([x_train, missing_mask])\n",
        "        for epoch in range(train_epochs):\n",
        "            X_pred = self._train_epoch(x_train, missing_mask, batch_size)\n",
        "            x_test_with_mask = np.hstack([x_test, x_test_missing_mask])\n",
        "            X_test_pred = self.predict(x_test_with_mask)\n",
        "            observed_mae = masked_mae(X_true=x_train,\n",
        "                                    X_pred=X_pred,\n",
        "                                    mask=observed_mask)\n",
        "            test_observed_mae = masked_mae(X_true=x_test,\n",
        "                                           X_pred = X_test_pred,\n",
        "                                           mask=x_test_observed_mask)\n",
        "            if epoch % 50 == 0:\n",
        "                print(\"observed mae:\", observed_mae)\n",
        "                print(\"Test mae:\", test_observed_mae)\n",
        "            old_weight = (1.0 - self.recurrent_weight)\n",
        "            x_train[missing_mask] *= old_weight\n",
        "            x_test[x_test_missing_mask] *= old_weight\n",
        "            pred_missing = X_pred[missing_mask]\n",
        "            x_test_pred_missing = X_test_pred[x_test_missing_mask]\n",
        "            x_train[missing_mask] += self.recurrent_weight * pred_missing\n",
        "            x_test[x_test_missing_mask] += self.recurrent_weight * x_test_pred_missing\n",
        "        return x_train.copy(), x_test.copy()"
      ],
      "execution_count": 0,
      "outputs": []
    },
    {
      "cell_type": "code",
      "metadata": {
        "colab_type": "code",
        "outputId": "8c72da28-3965-4d2f-82d0-cb9079357637",
        "id": "C6eZwyYLvp8T",
        "colab": {
          "base_uri": "https://localhost:8080/",
          "height": 1000
        }
      },
      "source": [
        "import math\n",
        "from sklearn.model_selection import train_test_split\n",
        "from sklearn.metrics import mean_squared_error\n",
        "seeds = [LOCAL_SEED+2, LOCAL_SEED+1, LOCAL_SEED+4, LOCAL_SEED+6, LOCAL_SEED+8]\n",
        "rmses = []\n",
        "cols = df_non_null.columns\n",
        "non_null_values = df_non_null.values.copy()\n",
        "for seed_number in seeds:\n",
        "    values = missing_encoded.values.copy()\n",
        "    train, test, comp_train, comp_test = train_test_split(values.copy(),\n",
        "                                                        non_null_values.copy(),\n",
        "                                                        test_size=0.1,\n",
        "                                                        random_state=seed_number)\n",
        "    df_test_complete = pd.DataFrame(columns=cols, \n",
        "                                    data=comp_test.copy())\n",
        "    scaler = MinMaxScaler().fit(train)\n",
        "    x_train = scaler.transform(train)\n",
        "    x_test = scaler.transform(test)\n",
        "    n_dims = x_train.shape[1]\n",
        "    aedropout = AutoEncoderDropout(n_dims=n_dims)\n",
        "    complete_encoded = aedropout.train(x_train.copy(), \n",
        "                                    x_test.copy(), \n",
        "                                    train_epochs=n_epochs,\n",
        "                                    batch_size=n_batch_size)\n",
        "    train_encoded, test_encoded = complete_encoded\n",
        "    missing_cols = list(missing_encoded)\n",
        "    inverse_test_encoded = scaler.inverse_transform(test_encoded)\n",
        "    df_test_dummies = pd.DataFrame(columns=missing_cols, \n",
        "                                   data=inverse_test_encoded)\n",
        "    df_test_dummies = reverse_encoding(df_test_dummies.copy())\n",
        "    df_test_dummies.drop(cat_cols, axis=1,\n",
        "                         inplace=True)\n",
        "    df_test_complete.drop(cat_cols, axis=1,\n",
        "                          inplace=True)\n",
        "    true_vals = df_test_complete.values.copy()\n",
        "    test_vals = df_test_dummies.values.copy()\n",
        "    scaler2 = MinMaxScaler().fit(true_vals)\n",
        "    scaled_true_vales = scaler2.transform(true_vals)\n",
        "    scaled_test_vales = scaler2.transform(test_vals)\n",
        "    rmse = math.sqrt(mean_squared_error(scaled_true_vales, \n",
        "                                        scaled_test_vales))\n",
        "    rmses.append(rmse)"
      ],
      "execution_count": 0,
      "outputs": [
        {
          "output_type": "stream",
          "text": [
            "/usr/local/lib/python3.6/dist-packages/ipykernel_launcher.py:43: UserWarning: Update your `Dense` call to the Keras 2 API: `Dense(1000, activation=\"relu\", kernel_regularizer=<keras.reg..., bias_regularizer=<keras.reg..., kernel_initializer=\"glorot_normal\")`\n",
            "/usr/local/lib/python3.6/dist-packages/ipykernel_launcher.py:48: UserWarning: Update your `Dense` call to the Keras 2 API: `Dense(250, activation=\"relu\", kernel_regularizer=<keras.reg..., bias_regularizer=<keras.reg..., kernel_initializer=\"glorot_normal\")`\n",
            "/usr/local/lib/python3.6/dist-packages/ipykernel_launcher.py:57: UserWarning: Update your `Dense` call to the Keras 2 API: `Dense(250, activation=\"relu\", kernel_regularizer=<keras.reg..., bias_regularizer=<keras.reg..., kernel_initializer=\"glorot_normal\")`\n",
            "/usr/local/lib/python3.6/dist-packages/ipykernel_launcher.py:62: UserWarning: Update your `Dense` call to the Keras 2 API: `Dense(1000, activation=\"relu\", kernel_regularizer=<keras.reg..., bias_regularizer=<keras.reg..., kernel_initializer=\"glorot_normal\")`\n",
            "/usr/local/lib/python3.6/dist-packages/ipykernel_launcher.py:67: UserWarning: Update your `Dense` call to the Keras 2 API: `Dense(12, activation=\"sigmoid\", kernel_regularizer=<keras.reg..., bias_regularizer=<keras.reg..., kernel_initializer=\"glorot_normal\")`\n"
          ],
          "name": "stderr"
        },
        {
          "output_type": "stream",
          "text": [
            "observed mae: 0.2617217162174475\n",
            "Test mae: 0.2617642375087819\n",
            "observed mae: 0.06435300333636668\n",
            "Test mae: 0.06411093746888656\n"
          ],
          "name": "stdout"
        },
        {
          "output_type": "stream",
          "text": [
            "/usr/local/lib/python3.6/dist-packages/pandas/core/frame.py:4025: SettingWithCopyWarning: \n",
            "A value is trying to be set on a copy of a slice from a DataFrame\n",
            "\n",
            "See the caveats in the documentation: http://pandas.pydata.org/pandas-docs/stable/indexing.html#indexing-view-versus-copy\n",
            "  return super(DataFrame, self).rename(**kwargs)\n",
            "/usr/local/lib/python3.6/dist-packages/ipykernel_launcher.py:43: UserWarning: Update your `Dense` call to the Keras 2 API: `Dense(1000, activation=\"relu\", kernel_regularizer=<keras.reg..., bias_regularizer=<keras.reg..., kernel_initializer=\"glorot_normal\")`\n",
            "/usr/local/lib/python3.6/dist-packages/ipykernel_launcher.py:48: UserWarning: Update your `Dense` call to the Keras 2 API: `Dense(250, activation=\"relu\", kernel_regularizer=<keras.reg..., bias_regularizer=<keras.reg..., kernel_initializer=\"glorot_normal\")`\n",
            "/usr/local/lib/python3.6/dist-packages/ipykernel_launcher.py:57: UserWarning: Update your `Dense` call to the Keras 2 API: `Dense(250, activation=\"relu\", kernel_regularizer=<keras.reg..., bias_regularizer=<keras.reg..., kernel_initializer=\"glorot_normal\")`\n",
            "/usr/local/lib/python3.6/dist-packages/ipykernel_launcher.py:62: UserWarning: Update your `Dense` call to the Keras 2 API: `Dense(1000, activation=\"relu\", kernel_regularizer=<keras.reg..., bias_regularizer=<keras.reg..., kernel_initializer=\"glorot_normal\")`\n"
          ],
          "name": "stderr"
        },
        {
          "output_type": "stream",
          "text": [
            "   cant  caze      gras  lact  ...  gras prot   sun  uree  NCS binar\n",
            "0   6.0  2.63  3.710000  4.57  ...   1.100890  8.49  16.1        0.0\n",
            "1   8.2  0.00  4.950000  4.36  ...   1.148492  9.67   7.5        0.0\n",
            "2  11.2  2.20  4.010000  4.80  ...   1.197351  8.27   7.3        0.0\n",
            "3   5.8  2.77  4.233865  4.36  ...   1.196362  8.69  16.1        1.0\n",
            "4  11.0  2.57  4.198679  4.59  ...   1.185410  8.57   9.5        1.0\n",
            "\n",
            "[5 rows x 11 columns]\n"
          ],
          "name": "stdout"
        },
        {
          "output_type": "stream",
          "text": [
            "/usr/local/lib/python3.6/dist-packages/ipykernel_launcher.py:67: UserWarning: Update your `Dense` call to the Keras 2 API: `Dense(12, activation=\"sigmoid\", kernel_regularizer=<keras.reg..., bias_regularizer=<keras.reg..., kernel_initializer=\"glorot_normal\")`\n"
          ],
          "name": "stderr"
        },
        {
          "output_type": "stream",
          "text": [
            "observed mae: 0.24345194129456324\n",
            "Test mae: 0.24140620632244106\n",
            "observed mae: 0.06330294044138392\n",
            "Test mae: 0.06422688514971069\n"
          ],
          "name": "stdout"
        },
        {
          "output_type": "stream",
          "text": [
            "/usr/local/lib/python3.6/dist-packages/pandas/core/frame.py:4025: SettingWithCopyWarning: \n",
            "A value is trying to be set on a copy of a slice from a DataFrame\n",
            "\n",
            "See the caveats in the documentation: http://pandas.pydata.org/pandas-docs/stable/indexing.html#indexing-view-versus-copy\n",
            "  return super(DataFrame, self).rename(**kwargs)\n",
            "/usr/local/lib/python3.6/dist-packages/ipykernel_launcher.py:43: UserWarning: Update your `Dense` call to the Keras 2 API: `Dense(1000, activation=\"relu\", kernel_regularizer=<keras.reg..., bias_regularizer=<keras.reg..., kernel_initializer=\"glorot_normal\")`\n",
            "/usr/local/lib/python3.6/dist-packages/ipykernel_launcher.py:48: UserWarning: Update your `Dense` call to the Keras 2 API: `Dense(250, activation=\"relu\", kernel_regularizer=<keras.reg..., bias_regularizer=<keras.reg..., kernel_initializer=\"glorot_normal\")`\n",
            "/usr/local/lib/python3.6/dist-packages/ipykernel_launcher.py:57: UserWarning: Update your `Dense` call to the Keras 2 API: `Dense(250, activation=\"relu\", kernel_regularizer=<keras.reg..., bias_regularizer=<keras.reg..., kernel_initializer=\"glorot_normal\")`\n",
            "/usr/local/lib/python3.6/dist-packages/ipykernel_launcher.py:62: UserWarning: Update your `Dense` call to the Keras 2 API: `Dense(1000, activation=\"relu\", kernel_regularizer=<keras.reg..., bias_regularizer=<keras.reg..., kernel_initializer=\"glorot_normal\")`\n"
          ],
          "name": "stderr"
        },
        {
          "output_type": "stream",
          "text": [
            "        cant  caze  gras  lact  ...  gras prot   sun       uree  NCS binar\n",
            "0  11.700000  2.17  3.87  4.75  ...   1.382143  8.33   3.900000        0.0\n",
            "1   8.227348  3.14  4.41  4.13  ...   1.037647  9.06  26.700000        0.0\n",
            "2  11.000000  2.36  3.23  4.72  ...   1.117647  8.57  33.700000        0.0\n",
            "3  11.000000  2.10  5.15  4.67  ...   1.921642  8.09  20.133004        1.0\n",
            "4   8.000000  2.90  4.63  4.74  ...   1.258152  9.22  24.900000        0.0\n",
            "\n",
            "[5 rows x 11 columns]\n"
          ],
          "name": "stdout"
        },
        {
          "output_type": "stream",
          "text": [
            "/usr/local/lib/python3.6/dist-packages/ipykernel_launcher.py:67: UserWarning: Update your `Dense` call to the Keras 2 API: `Dense(12, activation=\"sigmoid\", kernel_regularizer=<keras.reg..., bias_regularizer=<keras.reg..., kernel_initializer=\"glorot_normal\")`\n"
          ],
          "name": "stderr"
        },
        {
          "output_type": "stream",
          "text": [
            "observed mae: 0.2461785437964436\n",
            "Test mae: 0.24507674505742255\n",
            "observed mae: 0.06482985792533762\n",
            "Test mae: 0.0649073883878365\n"
          ],
          "name": "stdout"
        },
        {
          "output_type": "stream",
          "text": [
            "/usr/local/lib/python3.6/dist-packages/pandas/core/frame.py:4025: SettingWithCopyWarning: \n",
            "A value is trying to be set on a copy of a slice from a DataFrame\n",
            "\n",
            "See the caveats in the documentation: http://pandas.pydata.org/pandas-docs/stable/indexing.html#indexing-view-versus-copy\n",
            "  return super(DataFrame, self).rename(**kwargs)\n",
            "/usr/local/lib/python3.6/dist-packages/ipykernel_launcher.py:43: UserWarning: Update your `Dense` call to the Keras 2 API: `Dense(1000, activation=\"relu\", kernel_regularizer=<keras.reg..., bias_regularizer=<keras.reg..., kernel_initializer=\"glorot_normal\")`\n",
            "/usr/local/lib/python3.6/dist-packages/ipykernel_launcher.py:48: UserWarning: Update your `Dense` call to the Keras 2 API: `Dense(250, activation=\"relu\", kernel_regularizer=<keras.reg..., bias_regularizer=<keras.reg..., kernel_initializer=\"glorot_normal\")`\n",
            "/usr/local/lib/python3.6/dist-packages/ipykernel_launcher.py:57: UserWarning: Update your `Dense` call to the Keras 2 API: `Dense(250, activation=\"relu\", kernel_regularizer=<keras.reg..., bias_regularizer=<keras.reg..., kernel_initializer=\"glorot_normal\")`\n",
            "/usr/local/lib/python3.6/dist-packages/ipykernel_launcher.py:62: UserWarning: Update your `Dense` call to the Keras 2 API: `Dense(1000, activation=\"relu\", kernel_regularizer=<keras.reg..., bias_regularizer=<keras.reg..., kernel_initializer=\"glorot_normal\")`\n"
          ],
          "name": "stderr"
        },
        {
          "output_type": "stream",
          "text": [
            "        cant  caze      gras      lact  ...  gras prot   sun       uree  NCS binar\n",
            "0   6.300000  0.00  2.420000  4.320000  ...   0.735562  8.47  28.000000        0.0\n",
            "1   8.271418  3.09  4.042247  4.630000  ...   1.132812  9.45  24.400000        0.0\n",
            "2   7.000839  2.69  4.214032  4.790000  ...   1.521994  8.79  19.992267        1.0\n",
            "3   5.000000  3.41  5.670000  4.545609  ...   1.186769  9.63  28.600000        1.0\n",
            "4  10.100000  2.56  2.900000  4.880000  ...   0.909091  8.90  13.900000        0.0\n",
            "\n",
            "[5 rows x 11 columns]\n"
          ],
          "name": "stdout"
        },
        {
          "output_type": "stream",
          "text": [
            "/usr/local/lib/python3.6/dist-packages/ipykernel_launcher.py:67: UserWarning: Update your `Dense` call to the Keras 2 API: `Dense(12, activation=\"sigmoid\", kernel_regularizer=<keras.reg..., bias_regularizer=<keras.reg..., kernel_initializer=\"glorot_normal\")`\n"
          ],
          "name": "stderr"
        },
        {
          "output_type": "stream",
          "text": [
            "observed mae: 0.21860669124369142\n",
            "Test mae: 0.21421721243433026\n",
            "observed mae: 0.06412764412495861\n",
            "Test mae: 0.06276656398768861\n"
          ],
          "name": "stdout"
        },
        {
          "output_type": "stream",
          "text": [
            "/usr/local/lib/python3.6/dist-packages/pandas/core/frame.py:4025: SettingWithCopyWarning: \n",
            "A value is trying to be set on a copy of a slice from a DataFrame\n",
            "\n",
            "See the caveats in the documentation: http://pandas.pydata.org/pandas-docs/stable/indexing.html#indexing-view-versus-copy\n",
            "  return super(DataFrame, self).rename(**kwargs)\n",
            "/usr/local/lib/python3.6/dist-packages/ipykernel_launcher.py:43: UserWarning: Update your `Dense` call to the Keras 2 API: `Dense(1000, activation=\"relu\", kernel_regularizer=<keras.reg..., bias_regularizer=<keras.reg..., kernel_initializer=\"glorot_normal\")`\n",
            "/usr/local/lib/python3.6/dist-packages/ipykernel_launcher.py:48: UserWarning: Update your `Dense` call to the Keras 2 API: `Dense(250, activation=\"relu\", kernel_regularizer=<keras.reg..., bias_regularizer=<keras.reg..., kernel_initializer=\"glorot_normal\")`\n",
            "/usr/local/lib/python3.6/dist-packages/ipykernel_launcher.py:57: UserWarning: Update your `Dense` call to the Keras 2 API: `Dense(250, activation=\"relu\", kernel_regularizer=<keras.reg..., bias_regularizer=<keras.reg..., kernel_initializer=\"glorot_normal\")`\n",
            "/usr/local/lib/python3.6/dist-packages/ipykernel_launcher.py:62: UserWarning: Update your `Dense` call to the Keras 2 API: `Dense(1000, activation=\"relu\", kernel_regularizer=<keras.reg..., bias_regularizer=<keras.reg..., kernel_initializer=\"glorot_normal\")`\n"
          ],
          "name": "stderr"
        },
        {
          "output_type": "stream",
          "text": [
            "   cant  caze      gras  lact  ...  gras prot      sun  uree  NCS binar\n",
            "0   5.7  3.35  6.940000  4.63  ...   1.648456  9.60000   8.1        1.0\n",
            "1   6.3  3.07  4.650000  4.99  ...   1.207792  9.45000  29.7        1.0\n",
            "2   6.5  0.00  3.860000  4.73  ...   1.099715  9.12000  13.0        0.0\n",
            "3   7.5  2.60  3.810000  5.06  ...   1.175926  9.00769  16.2        0.0\n",
            "4   8.0  2.56  4.017597  4.77  ...   1.154762  9.04000   9.3        0.0\n",
            "\n",
            "[5 rows x 11 columns]\n"
          ],
          "name": "stdout"
        },
        {
          "output_type": "stream",
          "text": [
            "/usr/local/lib/python3.6/dist-packages/ipykernel_launcher.py:67: UserWarning: Update your `Dense` call to the Keras 2 API: `Dense(12, activation=\"sigmoid\", kernel_regularizer=<keras.reg..., bias_regularizer=<keras.reg..., kernel_initializer=\"glorot_normal\")`\n"
          ],
          "name": "stderr"
        },
        {
          "output_type": "stream",
          "text": [
            "observed mae: 0.20154831774091414\n",
            "Test mae: 0.19656294951191067\n",
            "observed mae: 0.06500459403988243\n",
            "Test mae: 0.06478828433086713\n",
            "   cant      caze  gras  lact  ...  gras prot    sun  uree  NCS binar\n",
            "0   7.2  3.070000  4.29  4.65  ...   1.120104   9.42  35.0        0.0\n",
            "1   7.4  0.000000  4.66  4.67  ...   1.219895   9.31  23.9        1.0\n",
            "2  13.4  2.282143  2.89  4.56  ...   0.894737   8.53  36.3        0.0\n",
            "3   3.6  3.430000  4.73  5.02  ...   1.075000  10.16   5.5        0.0\n",
            "4   5.0  2.410000  4.95  4.38  ...   1.581470   8.19  28.1        0.0\n",
            "\n",
            "[5 rows x 11 columns]\n"
          ],
          "name": "stdout"
        },
        {
          "output_type": "stream",
          "text": [
            "/usr/local/lib/python3.6/dist-packages/pandas/core/frame.py:4025: SettingWithCopyWarning: \n",
            "A value is trying to be set on a copy of a slice from a DataFrame\n",
            "\n",
            "See the caveats in the documentation: http://pandas.pydata.org/pandas-docs/stable/indexing.html#indexing-view-versus-copy\n",
            "  return super(DataFrame, self).rename(**kwargs)\n"
          ],
          "name": "stderr"
        }
      ]
    },
    {
      "cell_type": "code",
      "metadata": {
        "id": "jXOyIjf6n20u",
        "colab_type": "code",
        "outputId": "3a8f1cb3-86d6-4a4c-ff33-377cc495a652",
        "colab": {
          "base_uri": "https://localhost:8080/",
          "height": 34
        }
      },
      "source": [
        "print(np.mean(rmses), np.std(rmses))"
      ],
      "execution_count": 0,
      "outputs": [
        {
          "output_type": "stream",
          "text": [
            "0.04799002261068887 0.0015991057431794897\n"
          ],
          "name": "stdout"
        }
      ]
    },
    {
      "cell_type": "markdown",
      "metadata": {
        "id": "Z_a6aJX6aDbA",
        "colab_type": "text"
      },
      "source": [
        "# VAE MCD"
      ]
    },
    {
      "cell_type": "code",
      "metadata": {
        "colab_type": "code",
        "id": "H0z51DCAuz9g",
        "colab": {}
      },
      "source": [
        "from sklearn.model_selection import train_test_split\n",
        "values = missing_encoded.values.copy()\n",
        "train, test, comp_train, comp_test = train_test_split(values,\n",
        "                                                      df_non_null.values.copy(),\n",
        "                                                      test_size=0.1,\n",
        "                                                      random_state=LOCAL_SEED)\n",
        "scaler = MinMaxScaler().fit(train)\n",
        "x_train = scaler.transform(train)\n",
        "x_test = scaler.transform(test)\n",
        "n_dims = x_train.shape[1]"
      ],
      "execution_count": 0,
      "outputs": []
    },
    {
      "cell_type": "code",
      "metadata": {
        "colab_type": "code",
        "id": "eNCDt7r_aIxN",
        "colab": {}
      },
      "source": [
        "class VAEDropout:\n",
        "    def __init__(self, n_dims,\n",
        "                 recurrent_weight=0.5,\n",
        "                 optimizer=\"adam\",\n",
        "                 dropout_probability=0.5,\n",
        "                 hidden_activation=\"relu\",\n",
        "                 output_activation=\"sigmoid\",\n",
        "                 init=\"glorot_normal\",\n",
        "                 l2_penalty=1e-3,\n",
        "                 hidden_size=hidden_size):\n",
        "        self.n_dims = n_dims\n",
        "        self.recurrent_weight = recurrent_weight\n",
        "        self.optimizer = optimizer\n",
        "        self.dropout_probability = dropout_probability\n",
        "        self.hidden_activation = hidden_activation\n",
        "        self.output_activation = output_activation\n",
        "        self.init = init\n",
        "        self.l2_penalty = l2_penalty\n",
        "        self.hidden_size = hidden_size\n",
        "        self._create_model()\n",
        "\n",
        "    def _create_model(self):\n",
        "        latent_dim = int(np.ceil(self.n_dims*0.5))\n",
        "        inputs = Input(shape=(2*n_dims, ), name='encoder_input')\n",
        "        x = inputs\n",
        "        x = Dense(self.hidden_size, activation=self.hidden_activation,\n",
        "                  init=self.init,\n",
        "                  kernel_regularizer=l2(self.l2_penalty),\n",
        "                  bias_regularizer=l2(self.l2_penalty))(x)\n",
        "        x = Dropout(self.dropout_probability)(x)\n",
        "        x = Dense(self.hidden_size//4, activation=self.hidden_activation,\n",
        "                  init=self.init,\n",
        "                  kernel_regularizer=l2(self.l2_penalty),\n",
        "                  bias_regularizer=l2(self.l2_penalty))(x)\n",
        "        x = Dropout(self.dropout_probability)(x)\n",
        "        z_mean = Dense(latent_dim, name='z_mean')(x)\n",
        "        z_log_var = Dense(latent_dim, name='z_log_var')(x)\n",
        "        self.encoder = Model(inputs, [z_mean, \n",
        "                                      z_log_var], name='encoder')\n",
        "        latent_inputs = Input(shape=(latent_dim,), name='z_sampling')\n",
        "        x = latent_inputs\n",
        "        x = Dense(self.hidden_size//4, activation=self.hidden_activation,\n",
        "                  init=self.init,\n",
        "                  kernel_regularizer=l2(self.l2_penalty),\n",
        "                  bias_regularizer=l2(self.l2_penalty))(x)\n",
        "        x = Dropout(self.dropout_probability)(x)\n",
        "        x = Dense(self.hidden_size, activation=self.hidden_activation,\n",
        "                 init=self.init,\n",
        "                 kernel_regularizer=l2(self.l2_penalty),\n",
        "                  bias_regularizer=l2(self.l2_penalty))(x)\n",
        "        x = Dropout(self.dropout_probability)(x)\n",
        "        outputs = Dense(self.n_dims, activation=self.output_activation,\n",
        "                        init=self.init,\n",
        "                       kernel_regularizer=l2(self.l2_penalty),\n",
        "                        bias_regularizer=l2(self.l2_penalty))(x)\n",
        "        self.decoder = Model(latent_inputs, \n",
        "                             outputs, \n",
        "                             name='decoder')\n",
        "        outputs = self.decoder(self.encoder(inputs)[0]) # Just take the mean\n",
        "        self.model = Model(inputs, outputs, \n",
        "                           name='vae_mlp')\n",
        "        reconstruction_loss = self.make_vae_reconstruction_loss(n_dims, \n",
        "                                                       z_mean, \n",
        "                                                       z_log_var)\n",
        "        self.model.compile(optimizer=self.optimizer, \n",
        "                           loss=reconstruction_loss)\n",
        "\n",
        "    def make_vae_reconstruction_loss(self, n_features, z_mean, z_log_var):\n",
        "        def reconstruction_loss(input_and_mask, y_pred):\n",
        "            X_values = input_and_mask[:, :n_features]\n",
        "        \n",
        "            missing_mask = input_and_mask[:, n_features:]\n",
        "            observed_mask = 1 - missing_mask\n",
        "            X_values_observed = X_values * observed_mask\n",
        "            pred_observed = y_pred * observed_mask\n",
        "            reconstruction_loss = binary_crossentropy(y_true=X_values_observed, \n",
        "                                        y_pred=pred_observed)\n",
        "            reconstruction_loss*=n_features\n",
        "            kl_loss = 1 + z_log_var - K.square(z_mean) - K.exp(z_log_var)\n",
        "            kl_loss = K.sum(kl_loss, axis=-1)\n",
        "            kl_loss *= -0.5\n",
        "            vae_loss = K.mean(reconstruction_loss + kl_loss)\t\n",
        "            return vae_loss\n",
        "        return reconstruction_loss\n",
        "\n",
        "    def fill(self, data, missing_mask):\n",
        "        data[missing_mask] = -1\n",
        "        return data\n",
        "\n",
        "    def _create_missing_mask(self, data):\n",
        "        if data.dtype != \"f\" and data.dtype != \"d\":\n",
        "            data = data.astype(float)\n",
        "        return np.isnan(data)\n",
        "\n",
        "    def predict(self, x_test_with_mask):\n",
        "        predict_stochastic = K.function([self.decoder.layers[0].input,\n",
        "                                        K.learning_phase()],\n",
        "                                        [self.decoder.layers[-1].output])\n",
        "        latent_input = self.encoder.predict(x_test_with_mask)[0]\n",
        "        outputs = np.array([np.array(predict_stochastic([latent_input,\n",
        "                                                         1])).reshape((x_test_with_mask.shape[0],\n",
        "                                                                                     x_test_with_mask.shape[1]//2)) for _ in range(50)])\n",
        "        return np.mean(outputs, axis=0)\n",
        "\n",
        "    def _train_epoch(self, data, missing_mask, batch_size):\n",
        "        input_with_mask = np.hstack([data, missing_mask])\n",
        "        n_samples = len(input_with_mask)\n",
        "        n_batches = int(np.ceil(n_samples / batch_size))\n",
        "        indices = np.arange(n_samples)\n",
        "        np.random.shuffle(indices)\n",
        "        X_shuffled = input_with_mask[indices]\n",
        "        for batch_idx in range(n_batches):\n",
        "            batch_start = batch_idx * batch_size\n",
        "            batch_end = (batch_idx + 1) * batch_size\n",
        "            batch_data = X_shuffled[batch_start:batch_end, :]\n",
        "            self.model.train_on_batch(batch_data, batch_data)\n",
        "        return self.model.predict(input_with_mask)\n",
        "\n",
        "    def train(self, x_train, x_test, batch_size=256, train_epochs=100):\n",
        "        missing_mask = self._create_missing_mask(x_train)\n",
        "        x_train = self.fill(x_train, missing_mask)\n",
        "        x_test_missing_mask = self._create_missing_mask(x_test) \n",
        "        x_test = self.fill(x_test, x_test_missing_mask)\n",
        "        observed_mask = ~missing_mask\n",
        "        x_test_observed_mask = ~x_test_missing_mask\n",
        "        for epoch in range(train_epochs):\n",
        "            X_pred = self._train_epoch(x_train, missing_mask, batch_size)\n",
        "            x_test_with_mask = np.hstack([x_test, x_test_missing_mask])\n",
        "            X_test_pred = self.predict(x_test_with_mask)\n",
        "            observed_mae = masked_mae(X_true=x_train,\n",
        "                                      X_pred=X_pred,\n",
        "                                      mask=observed_mask)\n",
        "            test_observed_mae = masked_mae(X_true=x_test,\n",
        "                                X_pred = X_test_pred,\n",
        "                                mask=x_test_observed_mask)\n",
        "            if epoch % 50 == 0:\n",
        "                print(\"Traing observed mae:\", observed_mae)\n",
        "                print(\"Test observed mae:\", test_observed_mae)\n",
        "            old_weight = (1.0 - self.recurrent_weight)\n",
        "            x_train[missing_mask] *= old_weight\n",
        "            x_test[x_test_missing_mask] *= old_weight\n",
        "            pred_missing = X_pred[missing_mask]\n",
        "            x_test_pred_missing = X_test_pred[x_test_missing_mask]\n",
        "            x_train[missing_mask] += self.recurrent_weight * pred_missing\n",
        "            x_test[x_test_missing_mask] += self.recurrent_weight*x_test_pred_missing\n",
        "        return x_train.copy(), x_test.copy()"
      ],
      "execution_count": 0,
      "outputs": []
    },
    {
      "cell_type": "code",
      "metadata": {
        "colab_type": "code",
        "outputId": "c50e44a7-d036-4f99-fdde-c1fcd61c7e29",
        "id": "bQcfK0I6wFwA",
        "colab": {
          "base_uri": "https://localhost:8080/",
          "height": 1000
        }
      },
      "source": [
        "import math\n",
        "from sklearn.model_selection import train_test_split\n",
        "from sklearn.metrics import mean_squared_error\n",
        "seeds = [LOCAL_SEED+2, LOCAL_SEED+1, LOCAL_SEED+4, LOCAL_SEED+6, LOCAL_SEED+8]\n",
        "rmses = []\n",
        "cols = df_non_null.columns\n",
        "non_null_values = df_non_null.values.copy()\n",
        "for seed_number in seeds:\n",
        "    values = missing_encoded.values.copy()\n",
        "    train, test, comp_train, comp_test = train_test_split(values.copy(),\n",
        "                                                        non_null_values.copy(),\n",
        "                                                        test_size=0.1,\n",
        "                                                        random_state=seed_number)\n",
        "    df_test_complete = pd.DataFrame(columns=cols, \n",
        "                                    data=comp_test.copy())\n",
        "    scaler = MinMaxScaler().fit(train)\n",
        "    x_train = scaler.transform(train)\n",
        "    x_test = scaler.transform(test)\n",
        "    n_dims = x_train.shape[1]\n",
        "    aedropout = VAEDropout(n_dims=n_dims)\n",
        "    complete_encoded = aedropout.train(x_train.copy(), \n",
        "                                    x_test.copy(), \n",
        "                                    train_epochs=n_epochs,\n",
        "                                    batch_size=n_batch_size)\n",
        "    train_encoded, test_encoded = complete_encoded\n",
        "    missing_cols = list(missing_encoded)\n",
        "    inverse_test_encoded = scaler.inverse_transform(test_encoded)\n",
        "    df_test_dummies = pd.DataFrame(columns=missing_cols, \n",
        "                                   data=inverse_test_encoded)\n",
        "    df_test_dummies = reverse_encoding(df_test_dummies.copy())\n",
        "    df_test_dummies.drop(cat_cols, axis=1,\n",
        "                         inplace=True)\n",
        "    df_test_complete.drop(cat_cols, axis=1,\n",
        "                          inplace=True)\n",
        "    true_vals = df_test_complete.values.copy()\n",
        "    test_vals = df_test_dummies.values.copy()\n",
        "    scaler2 = MinMaxScaler().fit(true_vals)\n",
        "    scaled_true_vales = scaler2.transform(true_vals)\n",
        "    scaled_test_vales = scaler2.transform(test_vals)\n",
        "    rmse = math.sqrt(mean_squared_error(scaled_true_vales, \n",
        "                                        scaled_test_vales))\n",
        "    rmses.append(rmse)"
      ],
      "execution_count": 0,
      "outputs": [
        {
          "output_type": "stream",
          "text": [
            "/usr/local/lib/python3.6/dist-packages/ipykernel_launcher.py:29: UserWarning: Update your `Dense` call to the Keras 2 API: `Dense(1000, activation=\"relu\", kernel_regularizer=<keras.reg..., bias_regularizer=<keras.reg..., kernel_initializer=\"glorot_normal\")`\n",
            "/usr/local/lib/python3.6/dist-packages/ipykernel_launcher.py:34: UserWarning: Update your `Dense` call to the Keras 2 API: `Dense(250, activation=\"relu\", kernel_regularizer=<keras.reg..., bias_regularizer=<keras.reg..., kernel_initializer=\"glorot_normal\")`\n",
            "/usr/local/lib/python3.6/dist-packages/ipykernel_launcher.py:45: UserWarning: Update your `Dense` call to the Keras 2 API: `Dense(250, activation=\"relu\", kernel_regularizer=<keras.reg..., bias_regularizer=<keras.reg..., kernel_initializer=\"glorot_normal\")`\n",
            "/usr/local/lib/python3.6/dist-packages/ipykernel_launcher.py:50: UserWarning: Update your `Dense` call to the Keras 2 API: `Dense(1000, activation=\"relu\", kernel_regularizer=<keras.reg..., bias_regularizer=<keras.reg..., kernel_initializer=\"glorot_normal\")`\n",
            "/usr/local/lib/python3.6/dist-packages/ipykernel_launcher.py:55: UserWarning: Update your `Dense` call to the Keras 2 API: `Dense(12, activation=\"sigmoid\", kernel_regularizer=<keras.reg..., bias_regularizer=<keras.reg..., kernel_initializer=\"glorot_normal\")`\n"
          ],
          "name": "stderr"
        },
        {
          "output_type": "stream",
          "text": [
            "Traing observed mae: 0.22660911977275913\n",
            "Test observed mae: 0.22531270232303727\n",
            "Traing observed mae: 0.036607300745461244\n",
            "Test observed mae: 0.036820914448346544\n"
          ],
          "name": "stdout"
        },
        {
          "output_type": "stream",
          "text": [
            "/usr/local/lib/python3.6/dist-packages/pandas/core/frame.py:4025: SettingWithCopyWarning: \n",
            "A value is trying to be set on a copy of a slice from a DataFrame\n",
            "\n",
            "See the caveats in the documentation: http://pandas.pydata.org/pandas-docs/stable/indexing.html#indexing-view-versus-copy\n",
            "  return super(DataFrame, self).rename(**kwargs)\n",
            "/usr/local/lib/python3.6/dist-packages/ipykernel_launcher.py:29: UserWarning: Update your `Dense` call to the Keras 2 API: `Dense(1000, activation=\"relu\", kernel_regularizer=<keras.reg..., bias_regularizer=<keras.reg..., kernel_initializer=\"glorot_normal\")`\n",
            "/usr/local/lib/python3.6/dist-packages/ipykernel_launcher.py:34: UserWarning: Update your `Dense` call to the Keras 2 API: `Dense(250, activation=\"relu\", kernel_regularizer=<keras.reg..., bias_regularizer=<keras.reg..., kernel_initializer=\"glorot_normal\")`\n",
            "/usr/local/lib/python3.6/dist-packages/ipykernel_launcher.py:45: UserWarning: Update your `Dense` call to the Keras 2 API: `Dense(250, activation=\"relu\", kernel_regularizer=<keras.reg..., bias_regularizer=<keras.reg..., kernel_initializer=\"glorot_normal\")`\n",
            "/usr/local/lib/python3.6/dist-packages/ipykernel_launcher.py:50: UserWarning: Update your `Dense` call to the Keras 2 API: `Dense(1000, activation=\"relu\", kernel_regularizer=<keras.reg..., bias_regularizer=<keras.reg..., kernel_initializer=\"glorot_normal\")`\n"
          ],
          "name": "stderr"
        },
        {
          "output_type": "stream",
          "text": [
            "   cant  caze      gras  lact  ...  gras prot   sun  uree  NCS binar\n",
            "0   6.0  2.63  3.710000  4.57  ...   1.100890  8.49  16.1        0.0\n",
            "1   8.2  0.00  4.950000  4.36  ...   1.148492  9.67   7.5        0.0\n",
            "2  11.2  2.20  4.010000  4.80  ...   1.184630  8.27   7.3        0.0\n",
            "3   5.8  2.77  4.291581  4.36  ...   1.174942  8.69  16.1        1.0\n",
            "4  11.0  2.57  4.046769  4.59  ...   1.185410  8.57   9.5        1.0\n",
            "\n",
            "[5 rows x 11 columns]\n"
          ],
          "name": "stdout"
        },
        {
          "output_type": "stream",
          "text": [
            "/usr/local/lib/python3.6/dist-packages/ipykernel_launcher.py:55: UserWarning: Update your `Dense` call to the Keras 2 API: `Dense(12, activation=\"sigmoid\", kernel_regularizer=<keras.reg..., bias_regularizer=<keras.reg..., kernel_initializer=\"glorot_normal\")`\n"
          ],
          "name": "stderr"
        },
        {
          "output_type": "stream",
          "text": [
            "Traing observed mae: 0.24886417266699817\n",
            "Test observed mae: 0.24727365970526735\n",
            "Traing observed mae: 0.04366566089960063\n",
            "Test observed mae: 0.04416542304850564\n"
          ],
          "name": "stdout"
        },
        {
          "output_type": "stream",
          "text": [
            "/usr/local/lib/python3.6/dist-packages/pandas/core/frame.py:4025: SettingWithCopyWarning: \n",
            "A value is trying to be set on a copy of a slice from a DataFrame\n",
            "\n",
            "See the caveats in the documentation: http://pandas.pydata.org/pandas-docs/stable/indexing.html#indexing-view-versus-copy\n",
            "  return super(DataFrame, self).rename(**kwargs)\n",
            "/usr/local/lib/python3.6/dist-packages/ipykernel_launcher.py:29: UserWarning: Update your `Dense` call to the Keras 2 API: `Dense(1000, activation=\"relu\", kernel_regularizer=<keras.reg..., bias_regularizer=<keras.reg..., kernel_initializer=\"glorot_normal\")`\n",
            "/usr/local/lib/python3.6/dist-packages/ipykernel_launcher.py:34: UserWarning: Update your `Dense` call to the Keras 2 API: `Dense(250, activation=\"relu\", kernel_regularizer=<keras.reg..., bias_regularizer=<keras.reg..., kernel_initializer=\"glorot_normal\")`\n",
            "/usr/local/lib/python3.6/dist-packages/ipykernel_launcher.py:45: UserWarning: Update your `Dense` call to the Keras 2 API: `Dense(250, activation=\"relu\", kernel_regularizer=<keras.reg..., bias_regularizer=<keras.reg..., kernel_initializer=\"glorot_normal\")`\n",
            "/usr/local/lib/python3.6/dist-packages/ipykernel_launcher.py:50: UserWarning: Update your `Dense` call to the Keras 2 API: `Dense(1000, activation=\"relu\", kernel_regularizer=<keras.reg..., bias_regularizer=<keras.reg..., kernel_initializer=\"glorot_normal\")`\n"
          ],
          "name": "stderr"
        },
        {
          "output_type": "stream",
          "text": [
            "        cant  caze  gras  lact  ...  gras prot   sun       uree  NCS binar\n",
            "0  11.700000  2.17  3.87  4.75  ...   1.382143  8.33   3.900000        0.0\n",
            "1   5.591596  3.14  4.41  4.13  ...   1.037647  9.06  26.700000        0.0\n",
            "2  11.000000  2.36  3.23  4.72  ...   1.117647  8.57  33.700000        0.0\n",
            "3  11.000000  2.10  5.15  4.67  ...   1.921642  8.09  18.536514        1.0\n",
            "4   8.000000  2.90  4.63  4.74  ...   1.258152  9.22  24.900000        0.0\n",
            "\n",
            "[5 rows x 11 columns]\n"
          ],
          "name": "stdout"
        },
        {
          "output_type": "stream",
          "text": [
            "/usr/local/lib/python3.6/dist-packages/ipykernel_launcher.py:55: UserWarning: Update your `Dense` call to the Keras 2 API: `Dense(12, activation=\"sigmoid\", kernel_regularizer=<keras.reg..., bias_regularizer=<keras.reg..., kernel_initializer=\"glorot_normal\")`\n"
          ],
          "name": "stderr"
        },
        {
          "output_type": "stream",
          "text": [
            "Traing observed mae: 0.2519431198443704\n",
            "Test observed mae: 0.2517121552289873\n",
            "Traing observed mae: 0.036492242590507956\n",
            "Test observed mae: 0.0378104743295788\n"
          ],
          "name": "stdout"
        },
        {
          "output_type": "stream",
          "text": [
            "/usr/local/lib/python3.6/dist-packages/pandas/core/frame.py:4025: SettingWithCopyWarning: \n",
            "A value is trying to be set on a copy of a slice from a DataFrame\n",
            "\n",
            "See the caveats in the documentation: http://pandas.pydata.org/pandas-docs/stable/indexing.html#indexing-view-versus-copy\n",
            "  return super(DataFrame, self).rename(**kwargs)\n",
            "/usr/local/lib/python3.6/dist-packages/ipykernel_launcher.py:29: UserWarning: Update your `Dense` call to the Keras 2 API: `Dense(1000, activation=\"relu\", kernel_regularizer=<keras.reg..., bias_regularizer=<keras.reg..., kernel_initializer=\"glorot_normal\")`\n",
            "/usr/local/lib/python3.6/dist-packages/ipykernel_launcher.py:34: UserWarning: Update your `Dense` call to the Keras 2 API: `Dense(250, activation=\"relu\", kernel_regularizer=<keras.reg..., bias_regularizer=<keras.reg..., kernel_initializer=\"glorot_normal\")`\n",
            "/usr/local/lib/python3.6/dist-packages/ipykernel_launcher.py:45: UserWarning: Update your `Dense` call to the Keras 2 API: `Dense(250, activation=\"relu\", kernel_regularizer=<keras.reg..., bias_regularizer=<keras.reg..., kernel_initializer=\"glorot_normal\")`\n",
            "/usr/local/lib/python3.6/dist-packages/ipykernel_launcher.py:50: UserWarning: Update your `Dense` call to the Keras 2 API: `Dense(1000, activation=\"relu\", kernel_regularizer=<keras.reg..., bias_regularizer=<keras.reg..., kernel_initializer=\"glorot_normal\")`\n"
          ],
          "name": "stderr"
        },
        {
          "output_type": "stream",
          "text": [
            "        cant  caze      gras      lact  ...  gras prot   sun      uree  NCS binar\n",
            "0   6.300000  0.00  2.420000  4.320000  ...   0.735562  8.47  28.00000        0.0\n",
            "1   6.815742  3.09  4.223087  4.630000  ...   1.132812  9.45  24.40000        0.0\n",
            "2   8.579557  2.69  3.823060  4.790000  ...   1.521994  8.79  32.03881        1.0\n",
            "3   5.000000  3.41  5.670000  4.513451  ...   1.088976  9.63  28.60000        1.0\n",
            "4  10.100000  2.56  2.900000  4.880000  ...   0.909091  8.90  13.90000        0.0\n",
            "\n",
            "[5 rows x 11 columns]\n"
          ],
          "name": "stdout"
        },
        {
          "output_type": "stream",
          "text": [
            "/usr/local/lib/python3.6/dist-packages/ipykernel_launcher.py:55: UserWarning: Update your `Dense` call to the Keras 2 API: `Dense(12, activation=\"sigmoid\", kernel_regularizer=<keras.reg..., bias_regularizer=<keras.reg..., kernel_initializer=\"glorot_normal\")`\n"
          ],
          "name": "stderr"
        },
        {
          "output_type": "stream",
          "text": [
            "Traing observed mae: 0.25284541918704284\n",
            "Test observed mae: 0.25058595693299685\n",
            "Traing observed mae: 0.03612812295254475\n",
            "Test observed mae: 0.03553275835305286\n"
          ],
          "name": "stdout"
        },
        {
          "output_type": "stream",
          "text": [
            "/usr/local/lib/python3.6/dist-packages/pandas/core/frame.py:4025: SettingWithCopyWarning: \n",
            "A value is trying to be set on a copy of a slice from a DataFrame\n",
            "\n",
            "See the caveats in the documentation: http://pandas.pydata.org/pandas-docs/stable/indexing.html#indexing-view-versus-copy\n",
            "  return super(DataFrame, self).rename(**kwargs)\n",
            "/usr/local/lib/python3.6/dist-packages/ipykernel_launcher.py:29: UserWarning: Update your `Dense` call to the Keras 2 API: `Dense(1000, activation=\"relu\", kernel_regularizer=<keras.reg..., bias_regularizer=<keras.reg..., kernel_initializer=\"glorot_normal\")`\n",
            "/usr/local/lib/python3.6/dist-packages/ipykernel_launcher.py:34: UserWarning: Update your `Dense` call to the Keras 2 API: `Dense(250, activation=\"relu\", kernel_regularizer=<keras.reg..., bias_regularizer=<keras.reg..., kernel_initializer=\"glorot_normal\")`\n",
            "/usr/local/lib/python3.6/dist-packages/ipykernel_launcher.py:45: UserWarning: Update your `Dense` call to the Keras 2 API: `Dense(250, activation=\"relu\", kernel_regularizer=<keras.reg..., bias_regularizer=<keras.reg..., kernel_initializer=\"glorot_normal\")`\n",
            "/usr/local/lib/python3.6/dist-packages/ipykernel_launcher.py:50: UserWarning: Update your `Dense` call to the Keras 2 API: `Dense(1000, activation=\"relu\", kernel_regularizer=<keras.reg..., bias_regularizer=<keras.reg..., kernel_initializer=\"glorot_normal\")`\n"
          ],
          "name": "stderr"
        },
        {
          "output_type": "stream",
          "text": [
            "   cant  caze      gras  lact  ...  gras prot       sun  uree  NCS binar\n",
            "0   5.7  3.35  6.940000  4.63  ...   1.648456  9.600000   8.1        1.0\n",
            "1   6.3  3.07  4.650000  4.99  ...   1.207792  9.450000  29.7        1.0\n",
            "2   6.5  0.00  3.860000  4.73  ...   1.099715  9.120000  13.0        0.0\n",
            "3   7.5  2.60  3.810000  5.06  ...   1.175926  8.917086  16.2        0.0\n",
            "4   8.0  2.56  4.148563  4.77  ...   1.154762  9.040000   9.3        0.0\n",
            "\n",
            "[5 rows x 11 columns]\n"
          ],
          "name": "stdout"
        },
        {
          "output_type": "stream",
          "text": [
            "/usr/local/lib/python3.6/dist-packages/ipykernel_launcher.py:55: UserWarning: Update your `Dense` call to the Keras 2 API: `Dense(12, activation=\"sigmoid\", kernel_regularizer=<keras.reg..., bias_regularizer=<keras.reg..., kernel_initializer=\"glorot_normal\")`\n"
          ],
          "name": "stderr"
        },
        {
          "output_type": "stream",
          "text": [
            "Traing observed mae: 0.23455197377072015\n",
            "Test observed mae: 0.23349151702541465\n",
            "Traing observed mae: 0.035773413910223116\n",
            "Test observed mae: 0.0359704733719995\n",
            "   cant      caze  gras  lact  ...  gras prot    sun  uree  NCS binar\n",
            "0   7.2  3.070000  4.29  4.65  ...   1.120104   9.42  35.0        0.0\n",
            "1   7.4  0.000000  4.66  4.67  ...   1.219895   9.31  23.9        1.0\n",
            "2  13.4  2.302931  2.89  4.56  ...   0.894737   8.53  36.3        0.0\n",
            "3   3.6  3.430000  4.73  5.02  ...   1.075000  10.16   5.5        0.0\n",
            "4   5.0  2.410000  4.95  4.38  ...   1.581470   8.19  28.1        0.0\n",
            "\n",
            "[5 rows x 11 columns]\n"
          ],
          "name": "stdout"
        },
        {
          "output_type": "stream",
          "text": [
            "/usr/local/lib/python3.6/dist-packages/pandas/core/frame.py:4025: SettingWithCopyWarning: \n",
            "A value is trying to be set on a copy of a slice from a DataFrame\n",
            "\n",
            "See the caveats in the documentation: http://pandas.pydata.org/pandas-docs/stable/indexing.html#indexing-view-versus-copy\n",
            "  return super(DataFrame, self).rename(**kwargs)\n"
          ],
          "name": "stderr"
        }
      ]
    },
    {
      "cell_type": "code",
      "metadata": {
        "colab_type": "code",
        "outputId": "da69f22a-2bec-4282-f16e-c7c170270f6e",
        "id": "b49P0TAwwFwK",
        "colab": {
          "base_uri": "https://localhost:8080/",
          "height": 34
        }
      },
      "source": [
        "print(np.mean(rmses), np.std(rmses))"
      ],
      "execution_count": 0,
      "outputs": [
        {
          "output_type": "stream",
          "text": [
            "0.04655965742248365 0.0012359338368721727\n"
          ],
          "name": "stdout"
        }
      ]
    },
    {
      "cell_type": "markdown",
      "metadata": {
        "colab_type": "text",
        "id": "8y6VKVBMqyPB"
      },
      "source": [
        "# AutoEncoder"
      ]
    },
    {
      "cell_type": "code",
      "metadata": {
        "colab_type": "code",
        "id": "4Lirje8sqyPP",
        "colab": {}
      },
      "source": [
        "def masked_mae(X_true, X_pred, mask):\n",
        "    masked_diff = X_true[mask] - X_pred[mask]\n",
        "    return np.mean(np.abs(masked_diff))"
      ],
      "execution_count": 0,
      "outputs": []
    },
    {
      "cell_type": "code",
      "metadata": {
        "colab_type": "code",
        "id": "GqmNdU0Lu1Bi",
        "colab": {}
      },
      "source": [
        "from sklearn.model_selection import train_test_split\n",
        "values = missing_encoded.values.copy()\n",
        "train, test, comp_train, comp_test = train_test_split(values,\n",
        "                                                      df_non_null.values.copy(),\n",
        "                                                      test_size=0.1,\n",
        "                                                      random_state=LOCAL_SEED)\n",
        "scaler = MinMaxScaler().fit(train)\n",
        "x_train = scaler.transform(train)\n",
        "x_test = scaler.transform(test)"
      ],
      "execution_count": 0,
      "outputs": []
    },
    {
      "cell_type": "code",
      "metadata": {
        "colab_type": "code",
        "id": "dcd8G7YAqyPX",
        "colab": {}
      },
      "source": [
        "class Autoencoder:\n",
        "    def __init__(self, n_dims,\n",
        "                 recurrent_weight=0.5,\n",
        "                 optimizer=\"adam\",\n",
        "                 dropout_probability=0.1,\n",
        "                 hidden_activation=\"relu\",\n",
        "                 output_activation=\"sigmoid\",\n",
        "                 init=\"glorot_normal\",\n",
        "                 l1_penalty=0,\n",
        "                 l2_penalty=1e-3,\n",
        "                 hidden_size=hidden_size):\n",
        "        self.n_dims = n_dims\n",
        "        self.recurrent_weight = recurrent_weight\n",
        "        self.optimizer = optimizer\n",
        "        self.dropout_probability = dropout_probability\n",
        "        self.hidden_activation = hidden_activation\n",
        "        self.output_activation = output_activation\n",
        "        self.init = init\n",
        "        self.l1_penalty = l1_penalty\n",
        "        self.l2_penalty = l2_penalty\n",
        "        self.hidden_size = hidden_size\n",
        "\n",
        "    def make_reconstruction_loss(self, n_features):\n",
        "    \n",
        "        def reconstruction_loss(input_and_mask, y_pred):\n",
        "            X_values = input_and_mask[:, :n_features]\n",
        "            missing_mask = input_and_mask[:, n_features:]\n",
        "            observed_mask = 1 - missing_mask\n",
        "            X_values_observed = X_values * observed_mask\n",
        "            pred_observed = y_pred * observed_mask\n",
        "            return binary_crossentropy(y_true=X_values_observed, \n",
        "                                       y_pred=pred_observed)\n",
        "        return reconstruction_loss\n",
        "\n",
        "    def _create_model(self):\n",
        "        latent_dim = int(np.ceil(self.n_dims*0.5))\n",
        "        inputs = Input(shape=(2*n_dims, ), name='encoder_input')\n",
        "        x = inputs\n",
        "        x = Dense(self.hidden_size, activation=self.hidden_activation,\n",
        "                  init=self.init)(x)\n",
        "        x = Dropout(self.dropout_probability)(x)\n",
        "        x = Dense(self.hidden_size//4, activation=self.hidden_activation,\n",
        "                  init=self.init)(x)\n",
        "        x = Dropout(self.dropout_probability)(x)\n",
        "        encoded = Dense(latent_dim, name='encoding')(x)\n",
        "        self.encoder = Model(inputs, encoded, name='encoder')\n",
        "        latent_inputs = Input(shape=(latent_dim,), name='z_sampling')\n",
        "        x = latent_inputs\n",
        "        x = Dense(self.hidden_size//4, activation=self.hidden_activation,\n",
        "                  init=self.init)(x)\n",
        "        x = Dropout(self.dropout_probability)(x)\n",
        "        x = Dense(self.hidden_size, activation=self.hidden_activation,\n",
        "                  init=self.init)(x)\n",
        "        x = Dropout(self.dropout_probability)(x)\n",
        "        outputs = Dense(n_dims, activation=self.output_activation)(x)\n",
        "        self.decoder = Model(latent_inputs, \n",
        "                             outputs, \n",
        "                             name='decoder')\n",
        "        outputs = self.decoder(self.encoder(inputs))\n",
        "        self.model = Model(inputs, outputs, name='vae_mlp')\n",
        "        loss_function = self.make_reconstruction_loss(n_dims)\n",
        "        self.model.compile(optimizer=self.optimizer, \n",
        "                           loss=loss_function)\n",
        "\n",
        "    def fill(self, data, missing_mask):\n",
        "        data[missing_mask] = -1\n",
        "        return data\n",
        "\n",
        "    def _create_missing_mask(self, data):\n",
        "        if data.dtype != \"f\" and data.dtype != \"d\":\n",
        "            data = data.astype(float)\n",
        "\n",
        "        return np.isnan(data)\n",
        "\n",
        "    def _train_epoch(self, data, missing_mask, batch_size):\n",
        "        input_with_mask = np.hstack([data, missing_mask])\n",
        "        n_samples = len(input_with_mask)\n",
        "        n_batches = int(np.ceil(n_samples / batch_size))\n",
        "        indices = np.arange(n_samples)\n",
        "        np.random.shuffle(indices)\n",
        "        X_shuffled = input_with_mask[indices]\n",
        "        for batch_idx in range(n_batches):\n",
        "            batch_start = batch_idx * batch_size\n",
        "            batch_end = (batch_idx + 1) * batch_size\n",
        "            batch_data = X_shuffled[batch_start:batch_end, :]\n",
        "            self.model.train_on_batch(batch_data, batch_data)\n",
        "        return self.model.predict(input_with_mask)\n",
        "\n",
        "    def train(self, x_train, x_test, batch_size=256, train_epochs=100):\n",
        "        missing_mask = self._create_missing_mask(x_train)\n",
        "        x_train = self.fill(x_train, missing_mask)\n",
        "        x_test_missing_mask = self._create_missing_mask(x_test) \n",
        "        x_test = self.fill(x_test, x_test_missing_mask)\n",
        "        self._create_model()\n",
        "        self.encoder.summary()\n",
        "        self.decoder.summary()\n",
        "        self.model.summary()\n",
        "        observed_mask = ~missing_mask\n",
        "        x_test_observed_mask = ~x_test_missing_mask\n",
        "        input_with_mask = np.hstack([x_train, missing_mask])\n",
        "        for epoch in range(train_epochs):\n",
        "            X_pred = self._train_epoch(x_train, missing_mask, batch_size)\n",
        "            x_test_with_mask = np.hstack([x_test, x_test_missing_mask])\n",
        "            X_test_pred = self.model.predict(x_test_with_mask)\n",
        "            observed_mae = masked_mae(X_true=x_train,\n",
        "                                    X_pred=X_pred,\n",
        "                                    mask=observed_mask)\n",
        "            test_observed_mae = masked_mae(X_true=x_test,\n",
        "                                           X_pred = X_test_pred,\n",
        "                                           mask=x_test_observed_mask)\n",
        "            if epoch % 50 == 0:\n",
        "                print(\"observed mae:\", observed_mae)\n",
        "                print(\"Test mae:\", test_observed_mae)\n",
        "\n",
        "            old_weight = (1.0 - self.recurrent_weight)\n",
        "            x_train[missing_mask] *= old_weight\n",
        "            x_test[x_test_missing_mask] *= old_weight\n",
        "            pred_missing = X_pred[missing_mask]\n",
        "            x_test_pred_missing = X_test_pred[x_test_missing_mask]\n",
        "            x_train[missing_mask] += self.recurrent_weight * pred_missing\n",
        "            x_test[x_test_missing_mask] += self.recurrent_weight * x_test_pred_missing\n",
        "        return x_train.copy(), x_test.copy()"
      ],
      "execution_count": 0,
      "outputs": []
    },
    {
      "cell_type": "code",
      "metadata": {
        "colab_type": "code",
        "id": "DIBD1Zo2wSUY",
        "outputId": "5ed282eb-183c-49d7-9117-8090702357b5",
        "colab": {
          "base_uri": "https://localhost:8080/",
          "height": 1000
        }
      },
      "source": [
        "import math\n",
        "from sklearn.model_selection import train_test_split\n",
        "from sklearn.metrics import mean_squared_error\n",
        "seeds = [LOCAL_SEED+2, LOCAL_SEED+1, LOCAL_SEED+4, LOCAL_SEED+6, LOCAL_SEED+8]\n",
        "rmses = []\n",
        "cols = df_non_null.columns\n",
        "non_null_values = df_non_null.values.copy()\n",
        "for seed_number in seeds:\n",
        "    values = missing_encoded.values.copy()\n",
        "    train, test, comp_train, comp_test = train_test_split(values.copy(),\n",
        "                                                        non_null_values.copy(),\n",
        "                                                        test_size=0.1,\n",
        "                                                        random_state=seed_number)\n",
        "    df_test_complete = pd.DataFrame(columns=cols, \n",
        "                                    data=comp_test.copy())\n",
        "    scaler = MinMaxScaler().fit(train)\n",
        "    x_train = scaler.transform(train)\n",
        "    x_test = scaler.transform(test)\n",
        "    n_dims = x_train.shape[1]\n",
        "    aedropout = Autoencoder(n_dims=n_dims)\n",
        "    complete_encoded = aedropout.train(x_train.copy(), \n",
        "                                    x_test.copy(), \n",
        "                                    train_epochs=n_epochs,\n",
        "                                    batch_size=n_batch_size)\n",
        "    train_encoded, test_encoded = complete_encoded\n",
        "    missing_cols = list(missing_encoded)\n",
        "    inverse_test_encoded = scaler.inverse_transform(test_encoded)\n",
        "    df_test_dummies = pd.DataFrame(columns=missing_cols, \n",
        "                                   data=inverse_test_encoded)\n",
        "    df_test_dummies = reverse_encoding(df_test_dummies.copy())\n",
        "    df_test_dummies.drop(cat_cols, axis=1,\n",
        "                         inplace=True)\n",
        "    df_test_complete.drop(cat_cols, axis=1,\n",
        "                          inplace=True)\n",
        "    true_vals = df_test_complete.values.copy()\n",
        "    test_vals = df_test_dummies.values.copy()\n",
        "    scaler2 = MinMaxScaler().fit(true_vals)\n",
        "    scaled_true_vales = scaler2.transform(true_vals)\n",
        "    scaled_test_vales = scaler2.transform(test_vals)\n",
        "    rmse = math.sqrt(mean_squared_error(scaled_true_vales, \n",
        "                                        scaled_test_vales))\n",
        "    rmses.append(rmse)"
      ],
      "execution_count": 0,
      "outputs": [
        {
          "output_type": "stream",
          "text": [
            "/usr/local/lib/python3.6/dist-packages/ipykernel_launcher.py:40: UserWarning: Update your `Dense` call to the Keras 2 API: `Dense(1000, activation=\"relu\", kernel_initializer=\"glorot_normal\")`\n",
            "/usr/local/lib/python3.6/dist-packages/ipykernel_launcher.py:43: UserWarning: Update your `Dense` call to the Keras 2 API: `Dense(250, activation=\"relu\", kernel_initializer=\"glorot_normal\")`\n",
            "/usr/local/lib/python3.6/dist-packages/ipykernel_launcher.py:50: UserWarning: Update your `Dense` call to the Keras 2 API: `Dense(250, activation=\"relu\", kernel_initializer=\"glorot_normal\")`\n",
            "/usr/local/lib/python3.6/dist-packages/ipykernel_launcher.py:53: UserWarning: Update your `Dense` call to the Keras 2 API: `Dense(1000, activation=\"relu\", kernel_initializer=\"glorot_normal\")`\n"
          ],
          "name": "stderr"
        },
        {
          "output_type": "stream",
          "text": [
            "Model: \"encoder\"\n",
            "_________________________________________________________________\n",
            "Layer (type)                 Output Shape              Param #   \n",
            "=================================================================\n",
            "encoder_input (InputLayer)   (None, 24)                0         \n",
            "_________________________________________________________________\n",
            "dense_56 (Dense)             (None, 1000)              25000     \n",
            "_________________________________________________________________\n",
            "dropout_45 (Dropout)         (None, 1000)              0         \n",
            "_________________________________________________________________\n",
            "dense_57 (Dense)             (None, 250)               250250    \n",
            "_________________________________________________________________\n",
            "dropout_46 (Dropout)         (None, 250)               0         \n",
            "_________________________________________________________________\n",
            "encoding (Dense)             (None, 6)                 1506      \n",
            "=================================================================\n",
            "Total params: 276,756\n",
            "Trainable params: 276,756\n",
            "Non-trainable params: 0\n",
            "_________________________________________________________________\n",
            "Model: \"decoder\"\n",
            "_________________________________________________________________\n",
            "Layer (type)                 Output Shape              Param #   \n",
            "=================================================================\n",
            "z_sampling (InputLayer)      (None, 6)                 0         \n",
            "_________________________________________________________________\n",
            "dense_58 (Dense)             (None, 250)               1750      \n",
            "_________________________________________________________________\n",
            "dropout_47 (Dropout)         (None, 250)               0         \n",
            "_________________________________________________________________\n",
            "dense_59 (Dense)             (None, 1000)              251000    \n",
            "_________________________________________________________________\n",
            "dropout_48 (Dropout)         (None, 1000)              0         \n",
            "_________________________________________________________________\n",
            "dense_60 (Dense)             (None, 12)                12012     \n",
            "=================================================================\n",
            "Total params: 264,762\n",
            "Trainable params: 264,762\n",
            "Non-trainable params: 0\n",
            "_________________________________________________________________\n",
            "Model: \"vae_mlp\"\n",
            "_________________________________________________________________\n",
            "Layer (type)                 Output Shape              Param #   \n",
            "=================================================================\n",
            "encoder_input (InputLayer)   (None, 24)                0         \n",
            "_________________________________________________________________\n",
            "encoder (Model)              (None, 6)                 276756    \n",
            "_________________________________________________________________\n",
            "decoder (Model)              (None, 12)                264762    \n",
            "=================================================================\n",
            "Total params: 541,518\n",
            "Trainable params: 541,518\n",
            "Non-trainable params: 0\n",
            "_________________________________________________________________\n",
            "observed mae: 0.15413524577154586\n",
            "Test mae: 0.15270720617754807\n",
            "observed mae: 0.013302105834224488\n",
            "Test mae: 0.013498818617466815\n"
          ],
          "name": "stdout"
        },
        {
          "output_type": "stream",
          "text": [
            "/usr/local/lib/python3.6/dist-packages/pandas/core/frame.py:4025: SettingWithCopyWarning: \n",
            "A value is trying to be set on a copy of a slice from a DataFrame\n",
            "\n",
            "See the caveats in the documentation: http://pandas.pydata.org/pandas-docs/stable/indexing.html#indexing-view-versus-copy\n",
            "  return super(DataFrame, self).rename(**kwargs)\n",
            "/usr/local/lib/python3.6/dist-packages/ipykernel_launcher.py:40: UserWarning: Update your `Dense` call to the Keras 2 API: `Dense(1000, activation=\"relu\", kernel_initializer=\"glorot_normal\")`\n",
            "/usr/local/lib/python3.6/dist-packages/ipykernel_launcher.py:43: UserWarning: Update your `Dense` call to the Keras 2 API: `Dense(250, activation=\"relu\", kernel_initializer=\"glorot_normal\")`\n",
            "/usr/local/lib/python3.6/dist-packages/ipykernel_launcher.py:50: UserWarning: Update your `Dense` call to the Keras 2 API: `Dense(250, activation=\"relu\", kernel_initializer=\"glorot_normal\")`\n",
            "/usr/local/lib/python3.6/dist-packages/ipykernel_launcher.py:53: UserWarning: Update your `Dense` call to the Keras 2 API: `Dense(1000, activation=\"relu\", kernel_initializer=\"glorot_normal\")`\n"
          ],
          "name": "stderr"
        },
        {
          "output_type": "stream",
          "text": [
            "   cant  caze      gras  lact  ...  gras prot   sun  uree  NCS binar\n",
            "0   6.0  2.63  3.710000  4.57  ...   1.100890  8.49  16.1        0.0\n",
            "1   8.2  0.00  4.950000  4.36  ...   1.148492  9.67   7.5        0.0\n",
            "2  11.2  2.20  4.010000  4.80  ...   1.430167  8.27   7.3        0.0\n",
            "3   5.8  2.77  2.691558  4.36  ...   0.744866  8.69  16.1        1.0\n",
            "4  11.0  2.57  3.823616  4.59  ...   1.185410  8.57   9.5        1.0\n",
            "\n",
            "[5 rows x 11 columns]\n",
            "Model: \"encoder\"\n",
            "_________________________________________________________________\n",
            "Layer (type)                 Output Shape              Param #   \n",
            "=================================================================\n",
            "encoder_input (InputLayer)   (None, 24)                0         \n",
            "_________________________________________________________________\n",
            "dense_61 (Dense)             (None, 1000)              25000     \n",
            "_________________________________________________________________\n",
            "dropout_49 (Dropout)         (None, 1000)              0         \n",
            "_________________________________________________________________\n",
            "dense_62 (Dense)             (None, 250)               250250    \n",
            "_________________________________________________________________\n",
            "dropout_50 (Dropout)         (None, 250)               0         \n",
            "_________________________________________________________________\n",
            "encoding (Dense)             (None, 6)                 1506      \n",
            "=================================================================\n",
            "Total params: 276,756\n",
            "Trainable params: 276,756\n",
            "Non-trainable params: 0\n",
            "_________________________________________________________________\n",
            "Model: \"decoder\"\n",
            "_________________________________________________________________\n",
            "Layer (type)                 Output Shape              Param #   \n",
            "=================================================================\n",
            "z_sampling (InputLayer)      (None, 6)                 0         \n",
            "_________________________________________________________________\n",
            "dense_63 (Dense)             (None, 250)               1750      \n",
            "_________________________________________________________________\n",
            "dropout_51 (Dropout)         (None, 250)               0         \n",
            "_________________________________________________________________\n",
            "dense_64 (Dense)             (None, 1000)              251000    \n",
            "_________________________________________________________________\n",
            "dropout_52 (Dropout)         (None, 1000)              0         \n",
            "_________________________________________________________________\n",
            "dense_65 (Dense)             (None, 12)                12012     \n",
            "=================================================================\n",
            "Total params: 264,762\n",
            "Trainable params: 264,762\n",
            "Non-trainable params: 0\n",
            "_________________________________________________________________\n",
            "Model: \"vae_mlp\"\n",
            "_________________________________________________________________\n",
            "Layer (type)                 Output Shape              Param #   \n",
            "=================================================================\n",
            "encoder_input (InputLayer)   (None, 24)                0         \n",
            "_________________________________________________________________\n",
            "encoder (Model)              (None, 6)                 276756    \n",
            "_________________________________________________________________\n",
            "decoder (Model)              (None, 12)                264762    \n",
            "=================================================================\n",
            "Total params: 541,518\n",
            "Trainable params: 541,518\n",
            "Non-trainable params: 0\n",
            "_________________________________________________________________\n",
            "observed mae: 0.15194173214052806\n",
            "Test mae: 0.152538189038154\n",
            "observed mae: 0.013586226425265881\n",
            "Test mae: 0.014200845677798984\n"
          ],
          "name": "stdout"
        },
        {
          "output_type": "stream",
          "text": [
            "/usr/local/lib/python3.6/dist-packages/pandas/core/frame.py:4025: SettingWithCopyWarning: \n",
            "A value is trying to be set on a copy of a slice from a DataFrame\n",
            "\n",
            "See the caveats in the documentation: http://pandas.pydata.org/pandas-docs/stable/indexing.html#indexing-view-versus-copy\n",
            "  return super(DataFrame, self).rename(**kwargs)\n",
            "/usr/local/lib/python3.6/dist-packages/ipykernel_launcher.py:40: UserWarning: Update your `Dense` call to the Keras 2 API: `Dense(1000, activation=\"relu\", kernel_initializer=\"glorot_normal\")`\n",
            "/usr/local/lib/python3.6/dist-packages/ipykernel_launcher.py:43: UserWarning: Update your `Dense` call to the Keras 2 API: `Dense(250, activation=\"relu\", kernel_initializer=\"glorot_normal\")`\n",
            "/usr/local/lib/python3.6/dist-packages/ipykernel_launcher.py:50: UserWarning: Update your `Dense` call to the Keras 2 API: `Dense(250, activation=\"relu\", kernel_initializer=\"glorot_normal\")`\n",
            "/usr/local/lib/python3.6/dist-packages/ipykernel_launcher.py:53: UserWarning: Update your `Dense` call to the Keras 2 API: `Dense(1000, activation=\"relu\", kernel_initializer=\"glorot_normal\")`\n"
          ],
          "name": "stderr"
        },
        {
          "output_type": "stream",
          "text": [
            "       cant  caze  gras  lact  ...  gras prot   sun       uree  NCS binar\n",
            "0  11.70000  2.17  3.87  4.75  ...   1.382143  8.33   3.900000        0.0\n",
            "1   6.21388  3.14  4.41  4.13  ...   1.037647  9.06  26.700000        0.0\n",
            "2  11.00000  2.36  3.23  4.72  ...   1.117647  8.57  33.700000        0.0\n",
            "3  11.00000  2.10  5.15  4.67  ...   1.921642  8.09  16.927547        1.0\n",
            "4   8.00000  2.90  4.63  4.74  ...   1.258152  9.22  24.900000        0.0\n",
            "\n",
            "[5 rows x 11 columns]\n",
            "Model: \"encoder\"\n",
            "_________________________________________________________________\n",
            "Layer (type)                 Output Shape              Param #   \n",
            "=================================================================\n",
            "encoder_input (InputLayer)   (None, 24)                0         \n",
            "_________________________________________________________________\n",
            "dense_66 (Dense)             (None, 1000)              25000     \n",
            "_________________________________________________________________\n",
            "dropout_53 (Dropout)         (None, 1000)              0         \n",
            "_________________________________________________________________\n",
            "dense_67 (Dense)             (None, 250)               250250    \n",
            "_________________________________________________________________\n",
            "dropout_54 (Dropout)         (None, 250)               0         \n",
            "_________________________________________________________________\n",
            "encoding (Dense)             (None, 6)                 1506      \n",
            "=================================================================\n",
            "Total params: 276,756\n",
            "Trainable params: 276,756\n",
            "Non-trainable params: 0\n",
            "_________________________________________________________________\n",
            "Model: \"decoder\"\n",
            "_________________________________________________________________\n",
            "Layer (type)                 Output Shape              Param #   \n",
            "=================================================================\n",
            "z_sampling (InputLayer)      (None, 6)                 0         \n",
            "_________________________________________________________________\n",
            "dense_68 (Dense)             (None, 250)               1750      \n",
            "_________________________________________________________________\n",
            "dropout_55 (Dropout)         (None, 250)               0         \n",
            "_________________________________________________________________\n",
            "dense_69 (Dense)             (None, 1000)              251000    \n",
            "_________________________________________________________________\n",
            "dropout_56 (Dropout)         (None, 1000)              0         \n",
            "_________________________________________________________________\n",
            "dense_70 (Dense)             (None, 12)                12012     \n",
            "=================================================================\n",
            "Total params: 264,762\n",
            "Trainable params: 264,762\n",
            "Non-trainable params: 0\n",
            "_________________________________________________________________\n",
            "Model: \"vae_mlp\"\n",
            "_________________________________________________________________\n",
            "Layer (type)                 Output Shape              Param #   \n",
            "=================================================================\n",
            "encoder_input (InputLayer)   (None, 24)                0         \n",
            "_________________________________________________________________\n",
            "encoder (Model)              (None, 6)                 276756    \n",
            "_________________________________________________________________\n",
            "decoder (Model)              (None, 12)                264762    \n",
            "=================================================================\n",
            "Total params: 541,518\n",
            "Trainable params: 541,518\n",
            "Non-trainable params: 0\n",
            "_________________________________________________________________\n",
            "observed mae: 0.15193507620534225\n",
            "Test mae: 0.15307196236919976\n",
            "observed mae: 0.012516779906154851\n",
            "Test mae: 0.0129998533951316\n"
          ],
          "name": "stdout"
        },
        {
          "output_type": "stream",
          "text": [
            "/usr/local/lib/python3.6/dist-packages/pandas/core/frame.py:4025: SettingWithCopyWarning: \n",
            "A value is trying to be set on a copy of a slice from a DataFrame\n",
            "\n",
            "See the caveats in the documentation: http://pandas.pydata.org/pandas-docs/stable/indexing.html#indexing-view-versus-copy\n",
            "  return super(DataFrame, self).rename(**kwargs)\n",
            "/usr/local/lib/python3.6/dist-packages/ipykernel_launcher.py:40: UserWarning: Update your `Dense` call to the Keras 2 API: `Dense(1000, activation=\"relu\", kernel_initializer=\"glorot_normal\")`\n",
            "/usr/local/lib/python3.6/dist-packages/ipykernel_launcher.py:43: UserWarning: Update your `Dense` call to the Keras 2 API: `Dense(250, activation=\"relu\", kernel_initializer=\"glorot_normal\")`\n",
            "/usr/local/lib/python3.6/dist-packages/ipykernel_launcher.py:50: UserWarning: Update your `Dense` call to the Keras 2 API: `Dense(250, activation=\"relu\", kernel_initializer=\"glorot_normal\")`\n",
            "/usr/local/lib/python3.6/dist-packages/ipykernel_launcher.py:53: UserWarning: Update your `Dense` call to the Keras 2 API: `Dense(1000, activation=\"relu\", kernel_initializer=\"glorot_normal\")`\n"
          ],
          "name": "stderr"
        },
        {
          "output_type": "stream",
          "text": [
            "        cant  caze      gras      lact  ...  gras prot   sun       uree  NCS binar\n",
            "0   6.300000  0.00  2.420000  4.320000  ...   0.735562  8.47  28.000000        1.0\n",
            "1   6.566512  3.09  4.521131  4.630000  ...   1.132812  9.45  24.400000        0.0\n",
            "2   8.011668  2.69  4.808068  4.790000  ...   1.521994  8.79   6.751478        1.0\n",
            "3   5.000000  3.41  5.670000  4.446279  ...   1.303050  9.63  28.600000        1.0\n",
            "4  10.100000  2.56  2.900000  4.880000  ...   0.909091  8.90  13.900000        0.0\n",
            "\n",
            "[5 rows x 11 columns]\n",
            "Model: \"encoder\"\n",
            "_________________________________________________________________\n",
            "Layer (type)                 Output Shape              Param #   \n",
            "=================================================================\n",
            "encoder_input (InputLayer)   (None, 24)                0         \n",
            "_________________________________________________________________\n",
            "dense_71 (Dense)             (None, 1000)              25000     \n",
            "_________________________________________________________________\n",
            "dropout_57 (Dropout)         (None, 1000)              0         \n",
            "_________________________________________________________________\n",
            "dense_72 (Dense)             (None, 250)               250250    \n",
            "_________________________________________________________________\n",
            "dropout_58 (Dropout)         (None, 250)               0         \n",
            "_________________________________________________________________\n",
            "encoding (Dense)             (None, 6)                 1506      \n",
            "=================================================================\n",
            "Total params: 276,756\n",
            "Trainable params: 276,756\n",
            "Non-trainable params: 0\n",
            "_________________________________________________________________\n",
            "Model: \"decoder\"\n",
            "_________________________________________________________________\n",
            "Layer (type)                 Output Shape              Param #   \n",
            "=================================================================\n",
            "z_sampling (InputLayer)      (None, 6)                 0         \n",
            "_________________________________________________________________\n",
            "dense_73 (Dense)             (None, 250)               1750      \n",
            "_________________________________________________________________\n",
            "dropout_59 (Dropout)         (None, 250)               0         \n",
            "_________________________________________________________________\n",
            "dense_74 (Dense)             (None, 1000)              251000    \n",
            "_________________________________________________________________\n",
            "dropout_60 (Dropout)         (None, 1000)              0         \n",
            "_________________________________________________________________\n",
            "dense_75 (Dense)             (None, 12)                12012     \n",
            "=================================================================\n",
            "Total params: 264,762\n",
            "Trainable params: 264,762\n",
            "Non-trainable params: 0\n",
            "_________________________________________________________________\n",
            "Model: \"vae_mlp\"\n",
            "_________________________________________________________________\n",
            "Layer (type)                 Output Shape              Param #   \n",
            "=================================================================\n",
            "encoder_input (InputLayer)   (None, 24)                0         \n",
            "_________________________________________________________________\n",
            "encoder (Model)              (None, 6)                 276756    \n",
            "_________________________________________________________________\n",
            "decoder (Model)              (None, 12)                264762    \n",
            "=================================================================\n",
            "Total params: 541,518\n",
            "Trainable params: 541,518\n",
            "Non-trainable params: 0\n",
            "_________________________________________________________________\n",
            "observed mae: 0.1669991614240924\n",
            "Test mae: 0.1669434737013913\n",
            "observed mae: 0.013638229392688645\n",
            "Test mae: 0.01335230004346148\n"
          ],
          "name": "stdout"
        },
        {
          "output_type": "stream",
          "text": [
            "/usr/local/lib/python3.6/dist-packages/pandas/core/frame.py:4025: SettingWithCopyWarning: \n",
            "A value is trying to be set on a copy of a slice from a DataFrame\n",
            "\n",
            "See the caveats in the documentation: http://pandas.pydata.org/pandas-docs/stable/indexing.html#indexing-view-versus-copy\n",
            "  return super(DataFrame, self).rename(**kwargs)\n",
            "/usr/local/lib/python3.6/dist-packages/ipykernel_launcher.py:40: UserWarning: Update your `Dense` call to the Keras 2 API: `Dense(1000, activation=\"relu\", kernel_initializer=\"glorot_normal\")`\n",
            "/usr/local/lib/python3.6/dist-packages/ipykernel_launcher.py:43: UserWarning: Update your `Dense` call to the Keras 2 API: `Dense(250, activation=\"relu\", kernel_initializer=\"glorot_normal\")`\n",
            "/usr/local/lib/python3.6/dist-packages/ipykernel_launcher.py:50: UserWarning: Update your `Dense` call to the Keras 2 API: `Dense(250, activation=\"relu\", kernel_initializer=\"glorot_normal\")`\n",
            "/usr/local/lib/python3.6/dist-packages/ipykernel_launcher.py:53: UserWarning: Update your `Dense` call to the Keras 2 API: `Dense(1000, activation=\"relu\", kernel_initializer=\"glorot_normal\")`\n"
          ],
          "name": "stderr"
        },
        {
          "output_type": "stream",
          "text": [
            "   cant  caze      gras  lact  ...  gras prot       sun  uree  NCS binar\n",
            "0   5.7  3.35  6.940000  4.63  ...   1.648456  9.600000   8.1        1.0\n",
            "1   6.3  3.07  4.650000  4.99  ...   1.207792  9.450000  29.7        1.0\n",
            "2   6.5  0.00  3.860000  4.73  ...   1.099715  9.120000  13.0        0.0\n",
            "3   7.5  2.60  3.810000  5.06  ...   1.175926  9.018045  16.2        0.0\n",
            "4   8.0  2.56  3.895984  4.77  ...   1.154762  9.040000   9.3        0.0\n",
            "\n",
            "[5 rows x 11 columns]\n",
            "Model: \"encoder\"\n",
            "_________________________________________________________________\n",
            "Layer (type)                 Output Shape              Param #   \n",
            "=================================================================\n",
            "encoder_input (InputLayer)   (None, 24)                0         \n",
            "_________________________________________________________________\n",
            "dense_76 (Dense)             (None, 1000)              25000     \n",
            "_________________________________________________________________\n",
            "dropout_61 (Dropout)         (None, 1000)              0         \n",
            "_________________________________________________________________\n",
            "dense_77 (Dense)             (None, 250)               250250    \n",
            "_________________________________________________________________\n",
            "dropout_62 (Dropout)         (None, 250)               0         \n",
            "_________________________________________________________________\n",
            "encoding (Dense)             (None, 6)                 1506      \n",
            "=================================================================\n",
            "Total params: 276,756\n",
            "Trainable params: 276,756\n",
            "Non-trainable params: 0\n",
            "_________________________________________________________________\n",
            "Model: \"decoder\"\n",
            "_________________________________________________________________\n",
            "Layer (type)                 Output Shape              Param #   \n",
            "=================================================================\n",
            "z_sampling (InputLayer)      (None, 6)                 0         \n",
            "_________________________________________________________________\n",
            "dense_78 (Dense)             (None, 250)               1750      \n",
            "_________________________________________________________________\n",
            "dropout_63 (Dropout)         (None, 250)               0         \n",
            "_________________________________________________________________\n",
            "dense_79 (Dense)             (None, 1000)              251000    \n",
            "_________________________________________________________________\n",
            "dropout_64 (Dropout)         (None, 1000)              0         \n",
            "_________________________________________________________________\n",
            "dense_80 (Dense)             (None, 12)                12012     \n",
            "=================================================================\n",
            "Total params: 264,762\n",
            "Trainable params: 264,762\n",
            "Non-trainable params: 0\n",
            "_________________________________________________________________\n",
            "Model: \"vae_mlp\"\n",
            "_________________________________________________________________\n",
            "Layer (type)                 Output Shape              Param #   \n",
            "=================================================================\n",
            "encoder_input (InputLayer)   (None, 24)                0         \n",
            "_________________________________________________________________\n",
            "encoder (Model)              (None, 6)                 276756    \n",
            "_________________________________________________________________\n",
            "decoder (Model)              (None, 12)                264762    \n",
            "=================================================================\n",
            "Total params: 541,518\n",
            "Trainable params: 541,518\n",
            "Non-trainable params: 0\n",
            "_________________________________________________________________\n",
            "observed mae: 0.15627640767806647\n",
            "Test mae: 0.1544388987550376\n",
            "observed mae: 0.011807706839847009\n",
            "Test mae: 0.01178807479763114\n",
            "   cant      caze  gras  lact  ...  gras prot    sun  uree  NCS binar\n",
            "0   7.2  3.070000  4.29  4.65  ...   1.120104   9.42  35.0        0.0\n",
            "1   7.4  0.000000  4.66  4.67  ...   1.219895   9.31  23.9        1.0\n",
            "2  13.4  0.003657  2.89  4.56  ...   0.894737   8.53  36.3        0.0\n",
            "3   3.6  3.430000  4.73  5.02  ...   1.075000  10.16   5.5        0.0\n",
            "4   5.0  2.410000  4.95  4.38  ...   1.581470   8.19  28.1        0.0\n",
            "\n",
            "[5 rows x 11 columns]\n"
          ],
          "name": "stdout"
        },
        {
          "output_type": "stream",
          "text": [
            "/usr/local/lib/python3.6/dist-packages/pandas/core/frame.py:4025: SettingWithCopyWarning: \n",
            "A value is trying to be set on a copy of a slice from a DataFrame\n",
            "\n",
            "See the caveats in the documentation: http://pandas.pydata.org/pandas-docs/stable/indexing.html#indexing-view-versus-copy\n",
            "  return super(DataFrame, self).rename(**kwargs)\n"
          ],
          "name": "stderr"
        }
      ]
    },
    {
      "cell_type": "code",
      "metadata": {
        "colab_type": "code",
        "id": "Y5oLdvWAwSUh",
        "outputId": "27a778f2-c598-4fdb-8976-c72cb17c82ef",
        "colab": {
          "base_uri": "https://localhost:8080/",
          "height": 34
        }
      },
      "source": [
        "print(np.mean(rmses), np.std(rmses))"
      ],
      "execution_count": 0,
      "outputs": [
        {
          "output_type": "stream",
          "text": [
            "0.053652362168770826 0.0011674074651310039\n"
          ],
          "name": "stdout"
        }
      ]
    },
    {
      "cell_type": "markdown",
      "metadata": {
        "colab_type": "text",
        "id": "PjJ4ap2drgQk"
      },
      "source": [
        "# VAE"
      ]
    },
    {
      "cell_type": "code",
      "metadata": {
        "colab_type": "code",
        "id": "UKt8DFgzu2Ha",
        "colab": {}
      },
      "source": [
        "from sklearn.model_selection import train_test_split\n",
        "values = missing_encoded.values.copy()\n",
        "train, test, comp_train, comp_test = train_test_split(values,\n",
        "                                                      df_non_null.values.copy(),\n",
        "                                                      test_size=0.1,\n",
        "                                                      random_state=LOCAL_SEED)\n",
        "scaler = MinMaxScaler().fit(train)\n",
        "x_train = scaler.transform(train)\n",
        "x_test = scaler.transform(test)"
      ],
      "execution_count": 0,
      "outputs": []
    },
    {
      "cell_type": "code",
      "metadata": {
        "colab_type": "code",
        "id": "ZF_5mh_ergRf",
        "colab": {}
      },
      "source": [
        "class VAE:\n",
        "\n",
        "    def __init__(self, n_dims,\n",
        "                 recurrent_weight=0.5,\n",
        "                 optimizer=\"adam\",\n",
        "                 dropout_probability=0.1,\n",
        "                 hidden_activation=\"relu\",\n",
        "                 output_activation=\"sigmoid\",\n",
        "                 init=\"glorot_normal\",\n",
        "                 l2_penalty=1e-3):\n",
        "        self.n_dims = n_dims\n",
        "        self.recurrent_weight = recurrent_weight\n",
        "        self.optimizer = optimizer\n",
        "        self.dropout_probability = dropout_probability\n",
        "        self.hidden_activation = hidden_activation\n",
        "        self.output_activation = output_activation\n",
        "        self.init = init\n",
        "        self.l2_penalty = l2_penalty\n",
        "        self.hidden_size = hidden_size\n",
        "        self._create_model()\n",
        "\n",
        "    def make_reconstruction_loss(self, n_features, z_mean, z_log_var):\n",
        "        def reconstruction_loss(input_and_mask, y_pred):\n",
        "            X_values = input_and_mask[:, :n_features]\n",
        "            missing_mask = input_and_mask[:, n_features:]\n",
        "            observed_mask = 1 - missing_mask\n",
        "            X_values_observed = X_values * observed_mask\n",
        "            pred_observed = y_pred * observed_mask\n",
        "            reconstruction_loss = binary_crossentropy(y_true=X_values_observed, \n",
        "                                        y_pred=pred_observed)\n",
        "            reconstruction_loss*=n_features\n",
        "            kl_loss = 1 + z_log_var - K.square(z_mean) - K.exp(z_log_var)\n",
        "            kl_loss = K.sum(kl_loss, axis=-1)\n",
        "            kl_loss *= -0.5\n",
        "            vae_loss = K.mean(reconstruction_loss + kl_loss)\t\n",
        "            return vae_loss\n",
        "        return reconstruction_loss\n",
        "\n",
        "    def sampling(self, args):\n",
        "        \"\"\"Reparameterization trick by sampling from an isotropic unit Gaussian.\n",
        "        # Arguments\n",
        "            args (tensor): mean and log of variance of Q(z|X)\n",
        "        # Returns\n",
        "            z (tensor): sampled latent vector\n",
        "        \"\"\"\n",
        "    \n",
        "        z_mean, z_log_var = args\n",
        "        batch = K.shape(z_mean)[0]\n",
        "        dim = K.int_shape(z_mean)[1]\n",
        "        # by default, random_normal has mean = 0 and std = 1.0\n",
        "        epsilon = K.random_normal(shape=(batch, dim))\n",
        "        return z_mean + K.exp(0.5 * z_log_var) * epsilon\n",
        "\n",
        "    def _create_model(self):\n",
        "        latent_dim = (int(np.ceil(self.n_dims*0.5)))\n",
        "        inputs = Input(shape=(2*self.n_dims, ), name='encoder_input')\n",
        "        x = inputs\n",
        "        x = Dense(self.hidden_size, activation=self.hidden_activation,\n",
        "                  init=self.init)(x)\n",
        "        x = Dropout(self.dropout_probability)(x)\n",
        "        x = Dense(self.hidden_size//4, activation=self.hidden_activation,\n",
        "                  init=self.init)(x)\n",
        "        x = Dropout(self.dropout_probability)(x)\n",
        "        z_mean = Dense(latent_dim, name='z_mean')(x)\n",
        "        z_log_var = Dense(latent_dim, name='z_log_var')(x)\n",
        "        z = Lambda(self.sampling, output_shape=(latent_dim,), name='z')([z_mean, z_log_var])\n",
        "        self.encoder = Model(inputs, [z_mean, \n",
        "                                      z_log_var, z], name='encoder')\n",
        "        latent_inputs = Input(shape=(latent_dim,), name='z_sampling')\n",
        "        x = latent_inputs\n",
        "        x = Dense(self.hidden_size//4, activation=self.hidden_activation,\n",
        "                  init=self.init)(x)\n",
        "        x = Dropout(self.dropout_probability)(x)\n",
        "        x = Dense(self.hidden_size, activation=self.hidden_activation,\n",
        "                  init=self.init)(x)\n",
        "        x = Dropout(self.dropout_probability)(x)\n",
        "        outputs = Dense(self.n_dims, activation=self.output_activation)(x)\n",
        "        self.decoder = Model(latent_inputs, \n",
        "                             outputs, \n",
        "                             name='decoder')\n",
        "        outputs = self.decoder(self.encoder(inputs)[2])\n",
        "        self.model = Model(inputs, outputs, \n",
        "                           name='vae_mlp')\n",
        "        reconstruction_loss = self.make_reconstruction_loss(n_dims, \n",
        "                                                       z_mean, \n",
        "                                                       z_log_var)\n",
        "        self.model.compile(optimizer=self.optimizer, \n",
        "                           loss=reconstruction_loss)\n",
        "\n",
        "    def fill(self, data, missing_mask):\n",
        "        data[missing_mask] = -1\n",
        "        return data\n",
        "\n",
        "    def _create_missing_mask(self, data):\n",
        "        if data.dtype != \"f\" and data.dtype != \"d\":\n",
        "            data = data.astype(float)\n",
        "        return np.isnan(data)\n",
        "\n",
        "    def _train_epoch(self, data, missing_mask, batch_size):\n",
        "        input_with_mask = np.hstack([data, missing_mask])\n",
        "        n_samples = len(input_with_mask)\n",
        "        n_batches = int(np.ceil(n_samples / batch_size))\n",
        "        indices = np.arange(n_samples)\n",
        "        np.random.shuffle(indices)\n",
        "        X_shuffled = input_with_mask[indices]\n",
        "        for batch_idx in range(n_batches):\n",
        "            batch_start = batch_idx * batch_size\n",
        "            batch_end = (batch_idx + 1) * batch_size\n",
        "            batch_data = X_shuffled[batch_start:batch_end, :]\n",
        "            self.model.train_on_batch(batch_data, batch_data)\n",
        "        return self.model.predict(input_with_mask)\n",
        "\n",
        "    def train(self, x_train, x_test, batch_size=256, train_epochs=100):\n",
        "        missing_mask = self._create_missing_mask(x_train)\n",
        "        x_train = self.fill(x_train, missing_mask)\n",
        "        x_test_missing_mask = self._create_missing_mask(x_test) \n",
        "        x_test = self.fill(x_test, x_test_missing_mask)\n",
        "        observed_mask = ~missing_mask\n",
        "        x_test_observed_mask = ~x_test_missing_mask\n",
        "        for epoch in range(train_epochs):\n",
        "            X_pred = self._train_epoch(x_train, missing_mask, batch_size)\n",
        "            x_test_with_mask = np.hstack([x_test, x_test_missing_mask])\n",
        "            X_test_pred = self.model.predict(x_test_with_mask)\n",
        "            observed_mae = masked_mae(X_true=x_train,\n",
        "                                      X_pred=X_pred,\n",
        "                                      mask=observed_mask)\n",
        "            test_observed_mae = masked_mae(X_true=x_test,\n",
        "                                X_pred = X_test_pred,\n",
        "                                mask=x_test_observed_mask)\n",
        "            if epoch % 50 == 0:\n",
        "                print(\"Traing observed mae:\", observed_mae)\n",
        "                print(\"Test observed mae:\", test_observed_mae)\n",
        "            old_weight = (1.0 - self.recurrent_weight)\n",
        "            x_train[missing_mask] *= old_weight\n",
        "            x_test[x_test_missing_mask] *= old_weight\n",
        "            pred_missing = X_pred[missing_mask]\n",
        "            x_test_pred_missing = X_test_pred[x_test_missing_mask]\n",
        "            x_train[missing_mask] += self.recurrent_weight * pred_missing\n",
        "            x_test[x_test_missing_mask] += self.recurrent_weight*x_test_pred_missing\n",
        "        return x_train.copy(), x_test.copy()"
      ],
      "execution_count": 0,
      "outputs": []
    },
    {
      "cell_type": "code",
      "metadata": {
        "colab_type": "code",
        "id": "dWfdwedcwYO0",
        "outputId": "8d929acd-667c-4b33-9571-f87797d8cf9a",
        "colab": {
          "base_uri": "https://localhost:8080/",
          "height": 1000
        }
      },
      "source": [
        "import math\n",
        "from sklearn.model_selection import train_test_split\n",
        "from sklearn.metrics import mean_squared_error\n",
        "seeds = [LOCAL_SEED+2, LOCAL_SEED+1, LOCAL_SEED+4, LOCAL_SEED+6, LOCAL_SEED+8]\n",
        "rmses = []\n",
        "cols = df_non_null.columns\n",
        "non_null_values = df_non_null.values.copy()\n",
        "for seed_number in seeds:\n",
        "    values = missing_encoded.values.copy()\n",
        "    train, test, comp_train, comp_test = train_test_split(values.copy(),\n",
        "                                                        non_null_values.copy(),\n",
        "                                                        test_size=0.1,\n",
        "                                                        random_state=seed_number)\n",
        "    df_test_complete = pd.DataFrame(columns=cols, \n",
        "                                    data=comp_test.copy())\n",
        "    scaler = MinMaxScaler().fit(train)\n",
        "    x_train = scaler.transform(train)\n",
        "    x_test = scaler.transform(test)\n",
        "    n_dims = x_train.shape[1]\n",
        "    aedropout = VAE(n_dims=n_dims)\n",
        "    complete_encoded = aedropout.train(x_train.copy(), \n",
        "                                    x_test.copy(), \n",
        "                                    train_epochs=n_epochs,\n",
        "                                    batch_size=n_batch_size)\n",
        "    train_encoded, test_encoded = complete_encoded\n",
        "    missing_cols = list(missing_encoded)\n",
        "    inverse_test_encoded = scaler.inverse_transform(test_encoded)\n",
        "    df_test_dummies = pd.DataFrame(columns=missing_cols, \n",
        "                                   data=inverse_test_encoded)\n",
        "    df_test_dummies = reverse_encoding(df_test_dummies.copy())\n",
        "    df_test_dummies.drop(cat_cols, axis=1,\n",
        "                         inplace=True)\n",
        "    df_test_complete.drop(cat_cols, axis=1,\n",
        "                          inplace=True)\n",
        "    true_vals = df_test_complete.values.copy()\n",
        "    test_vals = df_test_dummies.values.copy()\n",
        "    scaler2 = MinMaxScaler().fit(true_vals)\n",
        "    scaled_true_vales = scaler2.transform(true_vals)\n",
        "    scaled_test_vales = scaler2.transform(test_vals)\n",
        "    rmse = math.sqrt(mean_squared_error(scaled_true_vales, \n",
        "                                        scaled_test_vales))\n",
        "    rmses.append(rmse)"
      ],
      "execution_count": 0,
      "outputs": [
        {
          "output_type": "stream",
          "text": [
            "/usr/local/lib/python3.6/dist-packages/ipykernel_launcher.py:59: UserWarning: Update your `Dense` call to the Keras 2 API: `Dense(1000, activation=\"relu\", kernel_initializer=\"glorot_normal\")`\n",
            "/usr/local/lib/python3.6/dist-packages/ipykernel_launcher.py:62: UserWarning: Update your `Dense` call to the Keras 2 API: `Dense(250, activation=\"relu\", kernel_initializer=\"glorot_normal\")`\n",
            "/usr/local/lib/python3.6/dist-packages/ipykernel_launcher.py:72: UserWarning: Update your `Dense` call to the Keras 2 API: `Dense(250, activation=\"relu\", kernel_initializer=\"glorot_normal\")`\n",
            "/usr/local/lib/python3.6/dist-packages/ipykernel_launcher.py:75: UserWarning: Update your `Dense` call to the Keras 2 API: `Dense(1000, activation=\"relu\", kernel_initializer=\"glorot_normal\")`\n"
          ],
          "name": "stderr"
        },
        {
          "output_type": "stream",
          "text": [
            "Traing observed mae: 0.16350777180873072\n",
            "Test observed mae: 0.16245265955786237\n",
            "Traing observed mae: 0.07598858026285693\n",
            "Test observed mae: 0.0748460094404927\n"
          ],
          "name": "stdout"
        },
        {
          "output_type": "stream",
          "text": [
            "/usr/local/lib/python3.6/dist-packages/pandas/core/frame.py:4025: SettingWithCopyWarning: \n",
            "A value is trying to be set on a copy of a slice from a DataFrame\n",
            "\n",
            "See the caveats in the documentation: http://pandas.pydata.org/pandas-docs/stable/indexing.html#indexing-view-versus-copy\n",
            "  return super(DataFrame, self).rename(**kwargs)\n",
            "/usr/local/lib/python3.6/dist-packages/ipykernel_launcher.py:59: UserWarning: Update your `Dense` call to the Keras 2 API: `Dense(1000, activation=\"relu\", kernel_initializer=\"glorot_normal\")`\n",
            "/usr/local/lib/python3.6/dist-packages/ipykernel_launcher.py:62: UserWarning: Update your `Dense` call to the Keras 2 API: `Dense(250, activation=\"relu\", kernel_initializer=\"glorot_normal\")`\n",
            "/usr/local/lib/python3.6/dist-packages/ipykernel_launcher.py:72: UserWarning: Update your `Dense` call to the Keras 2 API: `Dense(250, activation=\"relu\", kernel_initializer=\"glorot_normal\")`\n",
            "/usr/local/lib/python3.6/dist-packages/ipykernel_launcher.py:75: UserWarning: Update your `Dense` call to the Keras 2 API: `Dense(1000, activation=\"relu\", kernel_initializer=\"glorot_normal\")`\n"
          ],
          "name": "stderr"
        },
        {
          "output_type": "stream",
          "text": [
            "   cant  caze      gras  lact  ...  gras prot   sun  uree  NCS binar\n",
            "0   6.0  2.63  3.710000  4.57  ...   1.100890  8.49  16.1        0.0\n",
            "1   8.2  0.00  4.950000  4.36  ...   1.148492  9.67   7.5        1.0\n",
            "2  11.2  2.20  4.010000  4.80  ...   1.173728  8.27   7.3        0.0\n",
            "3   5.8  2.77  4.155094  4.36  ...   1.168003  8.69  16.1        1.0\n",
            "4  11.0  2.57  4.158092  4.59  ...   1.185410  8.57   9.5        1.0\n",
            "\n",
            "[5 rows x 11 columns]\n",
            "Traing observed mae: 0.15704283454404988\n",
            "Test observed mae: 0.15723342707768861\n",
            "Traing observed mae: 0.07465064473810831\n",
            "Test observed mae: 0.07554457790408228\n"
          ],
          "name": "stdout"
        },
        {
          "output_type": "stream",
          "text": [
            "/usr/local/lib/python3.6/dist-packages/pandas/core/frame.py:4025: SettingWithCopyWarning: \n",
            "A value is trying to be set on a copy of a slice from a DataFrame\n",
            "\n",
            "See the caveats in the documentation: http://pandas.pydata.org/pandas-docs/stable/indexing.html#indexing-view-versus-copy\n",
            "  return super(DataFrame, self).rename(**kwargs)\n",
            "/usr/local/lib/python3.6/dist-packages/ipykernel_launcher.py:59: UserWarning: Update your `Dense` call to the Keras 2 API: `Dense(1000, activation=\"relu\", kernel_initializer=\"glorot_normal\")`\n",
            "/usr/local/lib/python3.6/dist-packages/ipykernel_launcher.py:62: UserWarning: Update your `Dense` call to the Keras 2 API: `Dense(250, activation=\"relu\", kernel_initializer=\"glorot_normal\")`\n",
            "/usr/local/lib/python3.6/dist-packages/ipykernel_launcher.py:72: UserWarning: Update your `Dense` call to the Keras 2 API: `Dense(250, activation=\"relu\", kernel_initializer=\"glorot_normal\")`\n",
            "/usr/local/lib/python3.6/dist-packages/ipykernel_launcher.py:75: UserWarning: Update your `Dense` call to the Keras 2 API: `Dense(1000, activation=\"relu\", kernel_initializer=\"glorot_normal\")`\n"
          ],
          "name": "stderr"
        },
        {
          "output_type": "stream",
          "text": [
            "        cant  caze  gras  lact  ...  gras prot   sun       uree  NCS binar\n",
            "0  11.700000  2.17  3.87  4.75  ...   1.382143  8.33   3.900000        0.0\n",
            "1   7.967963  3.14  4.41  4.13  ...   1.037647  9.06  26.700000        0.0\n",
            "2  11.000000  2.36  3.23  4.72  ...   1.117647  8.57  33.700000        0.0\n",
            "3  11.000000  2.10  5.15  4.67  ...   1.921642  8.09  20.496801        1.0\n",
            "4   8.000000  2.90  4.63  4.74  ...   1.258152  9.22  24.900000        0.0\n",
            "\n",
            "[5 rows x 11 columns]\n",
            "Traing observed mae: 0.16017735594203944\n",
            "Test observed mae: 0.16029746634231765\n",
            "Traing observed mae: 0.0747324532973126\n",
            "Test observed mae: 0.0754732137437987\n"
          ],
          "name": "stdout"
        },
        {
          "output_type": "stream",
          "text": [
            "/usr/local/lib/python3.6/dist-packages/pandas/core/frame.py:4025: SettingWithCopyWarning: \n",
            "A value is trying to be set on a copy of a slice from a DataFrame\n",
            "\n",
            "See the caveats in the documentation: http://pandas.pydata.org/pandas-docs/stable/indexing.html#indexing-view-versus-copy\n",
            "  return super(DataFrame, self).rename(**kwargs)\n",
            "/usr/local/lib/python3.6/dist-packages/ipykernel_launcher.py:59: UserWarning: Update your `Dense` call to the Keras 2 API: `Dense(1000, activation=\"relu\", kernel_initializer=\"glorot_normal\")`\n",
            "/usr/local/lib/python3.6/dist-packages/ipykernel_launcher.py:62: UserWarning: Update your `Dense` call to the Keras 2 API: `Dense(250, activation=\"relu\", kernel_initializer=\"glorot_normal\")`\n",
            "/usr/local/lib/python3.6/dist-packages/ipykernel_launcher.py:72: UserWarning: Update your `Dense` call to the Keras 2 API: `Dense(250, activation=\"relu\", kernel_initializer=\"glorot_normal\")`\n",
            "/usr/local/lib/python3.6/dist-packages/ipykernel_launcher.py:75: UserWarning: Update your `Dense` call to the Keras 2 API: `Dense(1000, activation=\"relu\", kernel_initializer=\"glorot_normal\")`\n"
          ],
          "name": "stderr"
        },
        {
          "output_type": "stream",
          "text": [
            "        cant  caze      gras      lact  ...  gras prot   sun       uree  NCS binar\n",
            "0   6.300000  0.00  2.420000  4.320000  ...   0.735562  8.47  28.000000        0.0\n",
            "1   7.997450  3.09  4.059078  4.630000  ...   1.132812  9.45  24.400000        0.0\n",
            "2   7.530432  2.69  4.106957  4.790000  ...   1.521994  8.79  20.296407        1.0\n",
            "3   5.000000  3.41  5.670000  4.582116  ...   1.171007  9.63  28.600000        1.0\n",
            "4  10.100000  2.56  2.900000  4.880000  ...   0.909091  8.90  13.900000        0.0\n",
            "\n",
            "[5 rows x 11 columns]\n",
            "Traing observed mae: 0.16041209106984128\n",
            "Test observed mae: 0.16032672410467447\n",
            "Traing observed mae: 0.07440845189196567\n",
            "Test observed mae: 0.07165096295621076\n"
          ],
          "name": "stdout"
        },
        {
          "output_type": "stream",
          "text": [
            "/usr/local/lib/python3.6/dist-packages/pandas/core/frame.py:4025: SettingWithCopyWarning: \n",
            "A value is trying to be set on a copy of a slice from a DataFrame\n",
            "\n",
            "See the caveats in the documentation: http://pandas.pydata.org/pandas-docs/stable/indexing.html#indexing-view-versus-copy\n",
            "  return super(DataFrame, self).rename(**kwargs)\n",
            "/usr/local/lib/python3.6/dist-packages/ipykernel_launcher.py:59: UserWarning: Update your `Dense` call to the Keras 2 API: `Dense(1000, activation=\"relu\", kernel_initializer=\"glorot_normal\")`\n",
            "/usr/local/lib/python3.6/dist-packages/ipykernel_launcher.py:62: UserWarning: Update your `Dense` call to the Keras 2 API: `Dense(250, activation=\"relu\", kernel_initializer=\"glorot_normal\")`\n",
            "/usr/local/lib/python3.6/dist-packages/ipykernel_launcher.py:72: UserWarning: Update your `Dense` call to the Keras 2 API: `Dense(250, activation=\"relu\", kernel_initializer=\"glorot_normal\")`\n",
            "/usr/local/lib/python3.6/dist-packages/ipykernel_launcher.py:75: UserWarning: Update your `Dense` call to the Keras 2 API: `Dense(1000, activation=\"relu\", kernel_initializer=\"glorot_normal\")`\n"
          ],
          "name": "stderr"
        },
        {
          "output_type": "stream",
          "text": [
            "   cant  caze      gras  lact  ...  gras prot       sun  uree  NCS binar\n",
            "0   5.7  3.35  6.940000  4.63  ...   1.648456  9.600000   8.1        1.0\n",
            "1   6.3  3.07  4.650000  4.99  ...   1.207792  9.450000  29.7        1.0\n",
            "2   6.5  0.00  3.860000  4.73  ...   1.099715  9.120000  13.0        0.0\n",
            "3   7.5  2.60  3.810000  5.06  ...   1.175926  9.038527  16.2        0.0\n",
            "4   8.0  2.56  4.097641  4.77  ...   1.154762  9.040000   9.3        0.0\n",
            "\n",
            "[5 rows x 11 columns]\n",
            "Traing observed mae: 0.15992955915318058\n",
            "Test observed mae: 0.1582801608662896\n",
            "Traing observed mae: 0.07519406968192512\n",
            "Test observed mae: 0.07572679354713605\n",
            "   cant      caze  gras  lact  ...  gras prot    sun  uree  NCS binar\n",
            "0   7.2  3.070000  4.29  4.65  ...   1.120104   9.42  35.0        0.0\n",
            "1   7.4  0.000000  4.66  4.67  ...   1.219895   9.31  23.9        1.0\n",
            "2  13.4  2.208197  2.89  4.56  ...   0.894737   8.53  36.3        0.0\n",
            "3   3.6  3.430000  4.73  5.02  ...   1.075000  10.16   5.5        0.0\n",
            "4   5.0  2.410000  4.95  4.38  ...   1.581470   8.19  28.1        0.0\n",
            "\n",
            "[5 rows x 11 columns]\n"
          ],
          "name": "stdout"
        },
        {
          "output_type": "stream",
          "text": [
            "/usr/local/lib/python3.6/dist-packages/pandas/core/frame.py:4025: SettingWithCopyWarning: \n",
            "A value is trying to be set on a copy of a slice from a DataFrame\n",
            "\n",
            "See the caveats in the documentation: http://pandas.pydata.org/pandas-docs/stable/indexing.html#indexing-view-versus-copy\n",
            "  return super(DataFrame, self).rename(**kwargs)\n"
          ],
          "name": "stderr"
        }
      ]
    },
    {
      "cell_type": "code",
      "metadata": {
        "colab_type": "code",
        "id": "nkbPrsxFwYO8",
        "outputId": "872bb96d-6e97-49ab-ec41-4d64a7c6eb5f",
        "colab": {
          "base_uri": "https://localhost:8080/",
          "height": 34
        }
      },
      "source": [
        "print(np.mean(rmses), np.std(rmses))"
      ],
      "execution_count": 0,
      "outputs": [
        {
          "output_type": "stream",
          "text": [
            "0.047273312094549345 0.0015688243471892547\n"
          ],
          "name": "stdout"
        }
      ]
    }
  ]
}